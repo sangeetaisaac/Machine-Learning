{
  "nbformat": 4,
  "nbformat_minor": 0,
  "metadata": {
    "colab": {
      "provenance": [],
      "authorship_tag": "ABX9TyP5uKfQl1kvb91jn+/ksWLs",
      "include_colab_link": true
    },
    "kernelspec": {
      "name": "python3",
      "display_name": "Python 3"
    },
    "language_info": {
      "name": "python"
    }
  },
  "cells": [
    {
      "cell_type": "markdown",
      "metadata": {
        "id": "view-in-github",
        "colab_type": "text"
      },
      "source": [
        "<a href=\"https://colab.research.google.com/github/sangeetaisaac/Machine-Learning/blob/main/Pandas_Numpy.ipynb\" target=\"_parent\"><img src=\"https://colab.research.google.com/assets/colab-badge.svg\" alt=\"Open In Colab\"/></a>"
      ]
    },
    {
      "cell_type": "code",
      "execution_count": null,
      "metadata": {
        "id": "F26dEBGOR4nv"
      },
      "outputs": [],
      "source": [
        "import numpy as np"
      ]
    },
    {
      "cell_type": "code",
      "source": [
        "#Create a 1-d array\n",
        "arr_1d = np.array([1,2,3,4,5])\n",
        "\n",
        "print(arr_1d)"
      ],
      "metadata": {
        "id": "cwNMgRSHU4hG",
        "colab": {
          "base_uri": "https://localhost:8080/"
        },
        "outputId": "879d49f8-8393-4a50-f37a-75ae79e7b40c"
      },
      "execution_count": null,
      "outputs": [
        {
          "output_type": "stream",
          "name": "stdout",
          "text": [
            "[1 2 3 4 5]\n"
          ]
        }
      ]
    },
    {
      "cell_type": "code",
      "source": [
        "#Get the shape, size and dimension of the 1 d array\n",
        "print(arr_1d.shape)\n",
        "print(arr_1d.ndim)\n",
        "print(arr_1d.size)"
      ],
      "metadata": {
        "colab": {
          "base_uri": "https://localhost:8080/"
        },
        "id": "OSdIgNrnXu5X",
        "outputId": "cddbb819-acc6-4de6-e9fd-82e51f39ec87"
      },
      "execution_count": null,
      "outputs": [
        {
          "output_type": "stream",
          "name": "stdout",
          "text": [
            "(5,)\n",
            "1\n",
            "5\n"
          ]
        }
      ]
    },
    {
      "cell_type": "code",
      "source": [
        "#Create a random array of 5 consecutive values\n",
        "arr_range = np.arange(5)\n",
        "print(arr_range)"
      ],
      "metadata": {
        "colab": {
          "base_uri": "https://localhost:8080/"
        },
        "id": "b9HSBoC18a38",
        "outputId": "7355843c-cce3-448f-a9ba-7b51e474a249"
      },
      "execution_count": null,
      "outputs": [
        {
          "output_type": "stream",
          "name": "stdout",
          "text": [
            "[0 1 2 3 4]\n"
          ]
        }
      ]
    },
    {
      "cell_type": "code",
      "source": [
        "#Create a 1-d array with 6 random integers between 1 and 9\n",
        "\n",
        "arr_rand_int = np.random.randint(1,9,6)\n",
        "print(arr_rand_int)"
      ],
      "metadata": {
        "colab": {
          "base_uri": "https://localhost:8080/"
        },
        "id": "PdUv9fuk12wy",
        "outputId": "b1480054-b1e7-43ea-b46a-b01a85601112"
      },
      "execution_count": null,
      "outputs": [
        {
          "output_type": "stream",
          "name": "stdout",
          "text": [
            "[6 1 3 1 7 5]\n"
          ]
        }
      ]
    },
    {
      "cell_type": "code",
      "source": [
        "#Create a 1-d array with 7 random floats between 0 and 1\n",
        "arr_rand_float = np.random.random(7)\n",
        "print(arr_rand_float)"
      ],
      "metadata": {
        "colab": {
          "base_uri": "https://localhost:8080/"
        },
        "id": "CJ6LV-P917il",
        "outputId": "d99d4939-b4ec-4b0b-ac91-961bb19706b5"
      },
      "execution_count": null,
      "outputs": [
        {
          "output_type": "stream",
          "name": "stdout",
          "text": [
            "[0.29755192 0.44322791 0.33054253 0.13082657 0.13317428 0.32455442\n",
            " 0.7291203 ]\n"
          ]
        }
      ]
    },
    {
      "cell_type": "code",
      "source": [
        "# Create a 3x3 array of pseudorandom integers in the interval [0, 10)\n",
        "arr_rand_2d = np.random.randint(0,10,(3,3))\n",
        "print(arr_rand_2d)"
      ],
      "metadata": {
        "colab": {
          "base_uri": "https://localhost:8080/"
        },
        "id": "j5JVBbCqX4ut",
        "outputId": "21735fc6-d48f-4b08-a2db-61e5dd343bbf"
      },
      "execution_count": null,
      "outputs": [
        {
          "output_type": "stream",
          "name": "stdout",
          "text": [
            "[[3 8 0]\n",
            " [4 5 9]\n",
            " [1 9 8]]\n"
          ]
        }
      ]
    },
    {
      "cell_type": "code",
      "source": [
        "#Create an array of 5 zeros\n",
        "arr_zeros = np.zeros(5, dtype=int)\n",
        "print(arr_zeros)"
      ],
      "metadata": {
        "id": "r-7H15p46V7C",
        "colab": {
          "base_uri": "https://localhost:8080/"
        },
        "outputId": "0333eb21-2877-413a-818c-12b5e55f913e"
      },
      "execution_count": null,
      "outputs": [
        {
          "output_type": "stream",
          "name": "stdout",
          "text": [
            "[0 0 0 0 0]\n"
          ]
        }
      ]
    },
    {
      "cell_type": "code",
      "source": [
        "#create a 2-d array\n",
        "arr_2d = np.array([\n",
        "                [1,2],\n",
        "                [3,4],\n",
        "                [5, 6],\n",
        "                [7,8]\n",
        "                ])\n",
        "print(arr_2d)"
      ],
      "metadata": {
        "colab": {
          "base_uri": "https://localhost:8080/"
        },
        "id": "zWjr8WPq7gWC",
        "outputId": "81ce08e1-23e6-4de4-c8dd-31b01c438151"
      },
      "execution_count": null,
      "outputs": [
        {
          "output_type": "stream",
          "name": "stdout",
          "text": [
            "[[1 2]\n",
            " [3 4]\n",
            " [5 6]\n",
            " [7 8]]\n"
          ]
        }
      ]
    },
    {
      "cell_type": "code",
      "source": [
        "#Create a random 2-d array\n",
        "\n",
        "arr_rand_2d = np.random.rand(3,4)\n",
        "print(arr_rand_2d)"
      ],
      "metadata": {
        "colab": {
          "base_uri": "https://localhost:8080/"
        },
        "id": "eccUkmdS7-CJ",
        "outputId": "2ca66f98-372f-41df-a453-1a19def08696"
      },
      "execution_count": null,
      "outputs": [
        {
          "output_type": "stream",
          "name": "stdout",
          "text": [
            "[[0.90936839 0.66494738 0.33450124 0.84989624]\n",
            " [0.35163032 0.76098339 0.89880411 0.90055597]\n",
            " [0.43824894 0.99111776 0.76469853 0.9908339 ]]\n"
          ]
        }
      ]
    },
    {
      "cell_type": "code",
      "source": [
        "#Create a random 2-d array of integers of 4 rows and 5 columns\n",
        "\n",
        "arr_int_2d = np.random.randint(1,10,(4,5))\n",
        "print(arr_int_2d)"
      ],
      "metadata": {
        "colab": {
          "base_uri": "https://localhost:8080/"
        },
        "id": "9CJ_oS4oAUx6",
        "outputId": "c6b3bc22-72a7-45fa-b999-8828f64c45c1"
      },
      "execution_count": null,
      "outputs": [
        {
          "output_type": "stream",
          "name": "stdout",
          "text": [
            "[[2 5 4 3 3]\n",
            " [6 9 7 6 6]\n",
            " [2 7 9 6 2]\n",
            " [7 7 7 8 5]]\n"
          ]
        }
      ]
    },
    {
      "cell_type": "code",
      "source": [
        "#Create a 3x5 floating-point array filled with 1s\n",
        "arr_ones = np.ones((3,5), dtype=np.float32)\n",
        "print(arr_ones)"
      ],
      "metadata": {
        "colab": {
          "base_uri": "https://localhost:8080/"
        },
        "id": "ONLjdrOSV7uh",
        "outputId": "71c51a41-a55c-4da6-ccfb-5b7ff047d817"
      },
      "execution_count": null,
      "outputs": [
        {
          "output_type": "stream",
          "name": "stdout",
          "text": [
            "[[1. 1. 1. 1. 1.]\n",
            " [1. 1. 1. 1. 1.]\n",
            " [1. 1. 1. 1. 1.]]\n"
          ]
        }
      ]
    },
    {
      "cell_type": "code",
      "source": [
        "# Create a 3x5 array filled with 3.14\n",
        "arr_pi = np.full((3,5),3.14)\n",
        "print(arr_pi)"
      ],
      "metadata": {
        "colab": {
          "base_uri": "https://localhost:8080/"
        },
        "id": "pwcTv9caWdVV",
        "outputId": "32b59a1a-866a-4c51-f89c-db4c8f33d5a1"
      },
      "execution_count": null,
      "outputs": [
        {
          "output_type": "stream",
          "name": "stdout",
          "text": [
            "[[3.14 3.14 3.14 3.14 3.14]\n",
            " [3.14 3.14 3.14 3.14 3.14]\n",
            " [3.14 3.14 3.14 3.14 3.14]]\n"
          ]
        }
      ]
    },
    {
      "cell_type": "code",
      "source": [
        "# Create an array of five values evenly spaced between 0 and 10\n",
        "arr_spaced = np.linspace(0,10,5)\n",
        "print(arr_spaced)"
      ],
      "metadata": {
        "colab": {
          "base_uri": "https://localhost:8080/"
        },
        "id": "2NNEadJzWxii",
        "outputId": "c6b0007b-a38f-4e56-f466-c6c8b3bfd00d"
      },
      "execution_count": null,
      "outputs": [
        {
          "output_type": "stream",
          "name": "stdout",
          "text": [
            "[ 0.   2.5  5.   7.5 10. ]\n"
          ]
        }
      ]
    },
    {
      "cell_type": "code",
      "source": [
        "#Get the shape, size and dimension of the 2 d array\n",
        "print(arr_2d.shape)\n",
        "print(arr_2d.ndim)\n",
        "print(arr_2d.size)"
      ],
      "metadata": {
        "id": "j5L4wSocOVCA",
        "colab": {
          "base_uri": "https://localhost:8080/"
        },
        "outputId": "6cd12498-28fe-432e-af42-5008764dfb34"
      },
      "execution_count": null,
      "outputs": [
        {
          "output_type": "stream",
          "name": "stdout",
          "text": [
            "(4, 2)\n",
            "2\n",
            "8\n"
          ]
        }
      ]
    },
    {
      "cell_type": "code",
      "source": [
        "#Create a numpy array of float datatype\n",
        "arr_float = np.array([2,4,5,6,7], dtype=np.float32)\n",
        "print(arr_float)"
      ],
      "metadata": {
        "colab": {
          "base_uri": "https://localhost:8080/"
        },
        "id": "pFQ7Tnm6O8gP",
        "outputId": "129b027c-2e45-4d09-cc93-2b65c5d5e012"
      },
      "execution_count": null,
      "outputs": [
        {
          "output_type": "stream",
          "name": "stdout",
          "text": [
            "[2. 4. 5. 6. 7.]\n"
          ]
        }
      ]
    },
    {
      "cell_type": "code",
      "source": [
        " # Create a 3x3 identity matrix\n",
        "arr_identity = np.eye(3,3)\n",
        "print(arr_identity)"
      ],
      "metadata": {
        "colab": {
          "base_uri": "https://localhost:8080/"
        },
        "id": "Z1F1gKndQ1wb",
        "outputId": "d060df89-70dd-42bf-bfda-6b44b2b63e81"
      },
      "execution_count": null,
      "outputs": [
        {
          "output_type": "stream",
          "name": "stdout",
          "text": [
            "[[1. 0. 0.]\n",
            " [0. 1. 0.]\n",
            " [0. 0. 1.]]\n"
          ]
        }
      ]
    },
    {
      "cell_type": "code",
      "source": [
        "#Create random arrays with a default seed\n",
        "rng = np.random.default_rng(seed=1561)\n",
        "\n",
        "arr_1d_rand = rng.integers(10, size=6)\n",
        "arr_2d_rand = rng.integers(10, size=(2,5))\n",
        "print(arr_1d_rand)\n",
        "print(arr_2d_rand)"
      ],
      "metadata": {
        "colab": {
          "base_uri": "https://localhost:8080/"
        },
        "id": "zo6VuF4mb3ZB",
        "outputId": "96b82ef4-c0a3-4968-8db4-720332da6f36"
      },
      "execution_count": null,
      "outputs": [
        {
          "output_type": "stream",
          "name": "stdout",
          "text": [
            "[2 4 7 2 5 6]\n",
            "[[4 4 0 1 4]\n",
            " [4 5 6 4 7]]\n"
          ]
        }
      ]
    },
    {
      "cell_type": "code",
      "source": [
        "# Create a 1-d array of size 6 of consecutive integers\n",
        "arr_original = np.arange(6)\n",
        "# Reshape it to 2X3\n",
        "arr_reshape = arr_original.reshape(2,3)\n",
        "print(arr_original)\n",
        "print(arr_original.ndim)\n",
        "print(arr_original.shape)\n",
        "print(arr_reshape)\n",
        "print(arr_reshape.ndim)\n",
        "print(arr_reshape.shape)"
      ],
      "metadata": {
        "colab": {
          "base_uri": "https://localhost:8080/"
        },
        "id": "DxpGEdmYZ9hF",
        "outputId": "34faa035-7c0b-474a-c659-2d7be532b0ce"
      },
      "execution_count": null,
      "outputs": [
        {
          "output_type": "stream",
          "name": "stdout",
          "text": [
            "[0 1 2 3 4 5]\n",
            "1\n",
            "(6,)\n",
            "[[0 1 2]\n",
            " [3 4 5]]\n",
            "2\n",
            "(2, 3)\n"
          ]
        }
      ]
    },
    {
      "cell_type": "code",
      "source": [
        "arr_original_2 = np.array([[1,2,3],\n",
        "                          [5,6,7]])\n",
        "arr_reshape_2 = arr_original_2.reshape(3,-1)\n",
        "print(arr_original_2)\n",
        "print(arr_reshape_2)"
      ],
      "metadata": {
        "colab": {
          "base_uri": "https://localhost:8080/"
        },
        "id": "NSJxI-PjdMIe",
        "outputId": "9d333803-1223-4fa0-a6d9-eb6f2738abfe"
      },
      "execution_count": null,
      "outputs": [
        {
          "output_type": "stream",
          "name": "stdout",
          "text": [
            "[[1 2 3]\n",
            " [5 6 7]]\n",
            "[[1 2]\n",
            " [3 5]\n",
            " [6 7]]\n"
          ]
        }
      ]
    },
    {
      "cell_type": "code",
      "source": [
        "#Use np.newaxis to reshape array along an axis and get vector\n",
        "array_1d_ori = np.array([1,2,3])\n",
        "\n",
        "row_vector_reshaped = array_1d_ori[np.newaxis, :]\n",
        "column_vector_reshaped = array_1d_ori[:, np.newaxis]"
      ],
      "metadata": {
        "id": "fbxEWyF7kplQ"
      },
      "execution_count": null,
      "outputs": []
    },
    {
      "cell_type": "code",
      "source": [
        "account_length = np.array([10,7,89,104,6,50,23])\n",
        "print(account_length)\n",
        "\n",
        "#print the first element\n",
        "print(account_length[0])\n",
        "\n",
        "#print the last element\n",
        "print(account_length[-1])\n",
        "\n",
        "#Display the even indexed elements\n",
        "print(account_length[::2])\n",
        "\n",
        "#Display the array in reverse order\n",
        "print(account_length[::-1])\n",
        "\n",
        "#Display the elements greater than 25 and less than 90\n",
        "filter = (account_length > 25) & (account_length < 90)\n",
        "print(filter)\n",
        "print(account_length[filter])"
      ],
      "metadata": {
        "colab": {
          "base_uri": "https://localhost:8080/"
        },
        "id": "EGOfspK-W8HG",
        "outputId": "4ea975a2-5591-40e0-9a43-34c0c0666340"
      },
      "execution_count": null,
      "outputs": [
        {
          "output_type": "stream",
          "name": "stdout",
          "text": [
            "[ 10   7  89 104   6  50  23]\n",
            "10\n",
            "23\n",
            "[10 89  6 23]\n",
            "[ 23  50   6 104  89   7  10]\n",
            "[False False  True False False  True False]\n",
            "[89 50]\n"
          ]
        }
      ]
    },
    {
      "cell_type": "code",
      "source": [
        "#Create a 2d array\n",
        "array_2d_original = np.array([\n",
        "                  [1,2,3,4],\n",
        "                  [5,6,7,8],\n",
        "                  [9,10,11,12],\n",
        "                  [-1,-2,-3,-4]\n",
        "                  ])\n",
        "\n",
        "#Get the first element of the array\n",
        "print(array_2d_original[0][0])\n",
        "\n",
        "#Get the first row of the array\n",
        "print(array_2d_original[0, :])\n",
        "\n",
        "#Get the second column of the array\n",
        "print(array_2d_original[: , 1])\n",
        "\n",
        "#Get sub-matrix of the array\n",
        "print(array_2d_original[2:,2:])"
      ],
      "metadata": {
        "id": "BjYE51cjupZ9",
        "colab": {
          "base_uri": "https://localhost:8080/"
        },
        "outputId": "7c07efe3-4cff-487e-8b05-a1279529ceb2"
      },
      "execution_count": null,
      "outputs": [
        {
          "output_type": "stream",
          "name": "stdout",
          "text": [
            "1\n",
            "[1 2 3 4]\n",
            "[ 2  6 10 -2]\n",
            "[[11 12]\n",
            " [-3 -4]]\n"
          ]
        }
      ]
    },
    {
      "cell_type": "code",
      "source": [
        "#Create a copy of the 2d array\n",
        "arr_2d_copy = array_2d_original.copy()\n",
        "\n",
        "#Modify an element in the copied array\n",
        "arr_2d_copy[2][3] = 100\n",
        "#Display the 2 arrays that show the value was not modified in the original array\n",
        "print(arr_2d_copy)\n",
        "print(array_2d_original)"
      ],
      "metadata": {
        "colab": {
          "base_uri": "https://localhost:8080/"
        },
        "id": "PAP49hMEOReg",
        "outputId": "f142032b-7957-4b2a-c0f3-1da4ec2da1ff"
      },
      "execution_count": null,
      "outputs": [
        {
          "output_type": "stream",
          "name": "stdout",
          "text": [
            "[[  1   2   3   4]\n",
            " [  5   6   7   8]\n",
            " [  9  10  11 100]\n",
            " [ -1  -2  -3  -4]]\n",
            "[[ 1  2  3  4]\n",
            " [ 5  6  7  8]\n",
            " [ 9 10 11 12]\n",
            " [-1 -2 -3 -4]]\n"
          ]
        }
      ]
    },
    {
      "cell_type": "code",
      "source": [
        "#Create a filter to display the odd indexed values of the 2 D array\n",
        "filter_odd_elements = (array_2d_original % 2 != 0)\n",
        "print(filter_odd_elements)\n",
        "print(array_2d_original[filter_odd_elements])"
      ],
      "metadata": {
        "colab": {
          "base_uri": "https://localhost:8080/"
        },
        "id": "DCtGm10JYako",
        "outputId": "1f53d9f2-69e8-4b83-c023-9e3ae9968d34"
      },
      "execution_count": null,
      "outputs": [
        {
          "output_type": "stream",
          "name": "stdout",
          "text": [
            "[[ True False  True False]\n",
            " [ True False  True False]\n",
            " [ True False  True False]\n",
            " [ True False  True False]]\n",
            "[ 1  3  5  7  9 11 -1 -3]\n"
          ]
        }
      ]
    },
    {
      "cell_type": "code",
      "source": [
        "#Concatenate multiple arrays\n",
        "x = np.array([3,4,5,6])\n",
        "y= np.array([1,2,3,4])\n",
        "z = np.concatenate([x,y])\n",
        "print(z)"
      ],
      "metadata": {
        "id": "nOTT65q0aGqC",
        "colab": {
          "base_uri": "https://localhost:8080/"
        },
        "outputId": "d48a0cc9-c2ce-4a34-c0a2-e2674b6044a3"
      },
      "execution_count": null,
      "outputs": [
        {
          "output_type": "stream",
          "name": "stdout",
          "text": [
            "[3 4 5 6 1 2 3 4]\n"
          ]
        }
      ]
    },
    {
      "cell_type": "code",
      "source": [
        "#Concatenate 2-d arrays along the x-axis using\n",
        "arr_1 = np.array([[1,2,3,4], [5,6,7,8]])\n",
        "arr_2 = np.array([[9,10,11,12], [13,14,15,16]])\n",
        "print(np.concatenate([arr_1,arr_2]))\n",
        "print(np.concatenate([arr_1,arr_2], axis=1))\n"
      ],
      "metadata": {
        "colab": {
          "base_uri": "https://localhost:8080/"
        },
        "id": "6UkMxgvXc07W",
        "outputId": "d5a14146-003c-448a-d070-899f10c33e55"
      },
      "execution_count": null,
      "outputs": [
        {
          "output_type": "stream",
          "name": "stdout",
          "text": [
            "[[ 1  2  3  4]\n",
            " [ 5  6  7  8]\n",
            " [ 9 10 11 12]\n",
            " [13 14 15 16]]\n",
            "[[ 1  2  3  4  9 10 11 12]\n",
            " [ 5  6  7  8 13 14 15 16]]\n"
          ]
        }
      ]
    },
    {
      "cell_type": "code",
      "source": [
        "#Use vstack and hstack to join mixed dimension arrays\n",
        "grid_1 = np.array([-1,-2,-3, -4])\n",
        "print(np.vstack([arr_1, grid_1]))\n",
        "grid_2 = np.array([[-1],\n",
        "                  [-2]])\n",
        "print(np.hstack([arr_1, grid_2]))"
      ],
      "metadata": {
        "colab": {
          "base_uri": "https://localhost:8080/"
        },
        "id": "NBm2zE4jfgva",
        "outputId": "b9ae61fd-95d9-40b4-83de-1d5701b5d69a"
      },
      "execution_count": null,
      "outputs": [
        {
          "output_type": "stream",
          "name": "stdout",
          "text": [
            "[[ 1  2  3  4]\n",
            " [ 5  6  7  8]\n",
            " [-1 -2 -3 -4]]\n",
            "[[ 1  2  3  4 -1]\n",
            " [ 5  6  7  8 -2]]\n"
          ]
        }
      ]
    },
    {
      "cell_type": "code",
      "source": [
        "#Splitting of arrays\n",
        "arr_to_split = np.arange(10)\n",
        "arr1, arr2, arr3 = np.split(arr_to_split, [3,5])\n",
        "print(arr_to_split)\n",
        "print(arr1, arr2, arr3)"
      ],
      "metadata": {
        "colab": {
          "base_uri": "https://localhost:8080/"
        },
        "id": "zkAsrmc5gkpP",
        "outputId": "72567006-7391-4f11-df6d-2099179aec00"
      },
      "execution_count": null,
      "outputs": [
        {
          "output_type": "stream",
          "name": "stdout",
          "text": [
            "[0 1 2 3 4 5 6 7 8 9]\n",
            "[0 1 2] [3 4] [5 6 7 8 9]\n"
          ]
        }
      ]
    },
    {
      "cell_type": "code",
      "source": [
        "#Use vsplit and hsplit to split multi-dimensional arrays\n",
        "multi_array = np.arange(16).reshape(4,4)\n",
        "print(multi_array)\n",
        "upper, lower = np.vsplit(multi_array, [2])\n",
        "left, right = np.hsplit(multi_array,[2])\n",
        "print(upper)\n",
        "print(lower)\n",
        "print(left)\n",
        "print(right)"
      ],
      "metadata": {
        "colab": {
          "base_uri": "https://localhost:8080/"
        },
        "id": "YJ9vlL5Ni4vg",
        "outputId": "e4805141-a735-4969-b2ab-b39dd1956cb1"
      },
      "execution_count": null,
      "outputs": [
        {
          "output_type": "stream",
          "name": "stdout",
          "text": [
            "[[ 0  1  2  3]\n",
            " [ 4  5  6  7]\n",
            " [ 8  9 10 11]\n",
            " [12 13 14 15]]\n",
            "[[0 1 2 3]\n",
            " [4 5 6 7]]\n",
            "[[ 8  9 10 11]\n",
            " [12 13 14 15]]\n",
            "[[ 0  1]\n",
            " [ 4  5]\n",
            " [ 8  9]\n",
            " [12 13]]\n",
            "[[ 2  3]\n",
            " [ 6  7]\n",
            " [10 11]\n",
            " [14 15]]\n"
          ]
        }
      ]
    },
    {
      "cell_type": "code",
      "source": [
        "#Adding a scalar value to a 2-d array using for loops\n",
        "\n",
        "input_array = np.array([[1,2,3,4,5],[6,7,8,9,10]])\n",
        "\n",
        "def add_ten(arr_1d):\n",
        "  output_array = np.empty_like(arr_1d)\n",
        "  for row_idx in range(len(arr_1d)):\n",
        "    for col_idx in range(len(arr_1d[row_idx])):\n",
        "      output_array[row_idx,col_idx] = arr_1d[row_idx,col_idx] + 10\n",
        "  print(output_array)\n",
        "add_ten(input_array)\n",
        "\n",
        "#alternatively you can use broadcasting, which is faster\n",
        "out_array_broadcast = input_array + 10\n",
        "print(out_array_broadcast)"
      ],
      "metadata": {
        "id": "jda0vxWVk-Aj",
        "colab": {
          "base_uri": "https://localhost:8080/"
        },
        "outputId": "8cd603e6-64ed-468b-c75f-97d70c4b0c80"
      },
      "execution_count": null,
      "outputs": [
        {
          "output_type": "stream",
          "name": "stdout",
          "text": [
            "[[11 12 13 14 15]\n",
            " [16 17 18 19 20]]\n",
            "[[11 12 13 14 15]\n",
            " [16 17 18 19 20]]\n"
          ]
        }
      ]
    },
    {
      "cell_type": "code",
      "source": [
        "#Broadcasting the sum of 1d array with 2d array\n",
        "output_array_sum = out_array_broadcast + np.array([10,20,30,40,50])\n",
        "output_array_prod = out_array_broadcast * np.array([10,20,30,40,50])\n",
        "print(output_array_sum)\n",
        "print(output_array_prod)"
      ],
      "metadata": {
        "colab": {
          "base_uri": "https://localhost:8080/"
        },
        "id": "ur90kVR5cVmH",
        "outputId": "21cc9f6c-a64a-462c-92d4-cb473e66cf27"
      },
      "execution_count": null,
      "outputs": [
        {
          "output_type": "stream",
          "name": "stdout",
          "text": [
            "[[21 32 43 54 65]\n",
            " [26 37 48 59 70]]\n",
            "[[ 110  240  390  560  750]\n",
            " [ 160  340  540  760 1000]]\n"
          ]
        }
      ]
    },
    {
      "cell_type": "code",
      "source": [
        "M = np.ones((2, 3))\n",
        "a = np.arange(3)\n",
        "print(M)\n",
        "print(a)\n",
        "print(M + a)\n",
        "\n",
        "c = np.arange(3).reshape((3, 1))\n",
        "d = np.arange(3)\n",
        "print(c)\n",
        "print(d)\n",
        "print(c + d)"
      ],
      "metadata": {
        "colab": {
          "base_uri": "https://localhost:8080/"
        },
        "id": "1_gBNxPKubll",
        "outputId": "02f4d994-cf76-416c-f21d-4896058ba586"
      },
      "execution_count": null,
      "outputs": [
        {
          "output_type": "stream",
          "name": "stdout",
          "text": [
            "[[1. 1. 1.]\n",
            " [1. 1. 1.]]\n",
            "[0 1 2]\n",
            "[[1. 2. 3.]\n",
            " [1. 2. 3.]]\n",
            "[[0]\n",
            " [1]\n",
            " [2]]\n",
            "[0 1 2]\n",
            "[[0 1 2]\n",
            " [1 2 3]\n",
            " [2 3 4]]\n"
          ]
        }
      ]
    },
    {
      "cell_type": "code",
      "source": [
        "#Calculate the cross product\n",
        "\n",
        "arr1 = np.array([1, 2, 3])\n",
        "arr2 = np.array([4, 5, 6])\n",
        "result = np.cross(arr1, arr2)\n",
        "\n",
        "print(result)"
      ],
      "metadata": {
        "colab": {
          "base_uri": "https://localhost:8080/"
        },
        "id": "1eGUDksWyKn7",
        "outputId": "6419eca2-2db1-4bef-e870-61b5b74b3adc"
      },
      "execution_count": null,
      "outputs": [
        {
          "output_type": "stream",
          "name": "stdout",
          "text": [
            "[-3  6 -3]\n"
          ]
        }
      ]
    },
    {
      "cell_type": "code",
      "source": [
        "# Write a Python program using NumPy to create a 5x5 matrix filled with random integers between 1 and 100. Calculate the mean and standard deviation of the matrix and print them.\n",
        "\n",
        "import numpy as np\n",
        "\n",
        "arr1 = np.arange(1,100,4).reshape(5,5)\n",
        "print(arr1)\n",
        "print(arr1.mean())\n",
        "print(arr1.std())"
      ],
      "metadata": {
        "id": "rHXy78cD1O15",
        "colab": {
          "base_uri": "https://localhost:8080/"
        },
        "outputId": "a369a0e4-b8e0-414a-8f75-1f0d0dc43d6c"
      },
      "execution_count": null,
      "outputs": [
        {
          "output_type": "stream",
          "name": "stdout",
          "text": [
            "[[ 1  5  9 13 17]\n",
            " [21 25 29 33 37]\n",
            " [41 45 49 53 57]\n",
            " [61 65 69 73 77]\n",
            " [81 85 89 93 97]]\n",
            "49.0\n",
            "28.844410203711913\n"
          ]
        }
      ]
    },
    {
      "cell_type": "code",
      "source": [
        "#Using NumPy, create a 1000-element array of random integers between 1 and 1000. Calculate the cumulative sum of the array and print the 10th, 100th, and 500th elements of the cumulative sum array.\n",
        "np.random.seed(0)\n",
        "rand_nump = np.random.randint(1,1001,1000)\n",
        "\n",
        "total_sum = np.cumsum(rand_nump)\n",
        "print(\"10th Element of cumulative sum array\", total_sum[9])\n",
        "print(\"100th Element of cumulative sum array\", total_sum[99])\n",
        "print(\"500th Element of cumulative sum array\", total_sum[499])"
      ],
      "metadata": {
        "id": "KFiAX2Y6nZkV",
        "colab": {
          "base_uri": "https://localhost:8080/"
        },
        "outputId": "0d9c81f2-435c-4e52-fe7c-9460d43fbab6"
      },
      "execution_count": null,
      "outputs": [
        {
          "output_type": "stream",
          "name": "stdout",
          "text": [
            "10th Element of cumulative sum array 5470\n",
            "100th Element of cumulative sum array 52497\n",
            "500th Element of cumulative sum array 253546\n"
          ]
        }
      ]
    },
    {
      "cell_type": "code",
      "source": [
        "# Write a Python program using NumPy to create a 10x10 matrix filled with random integers between 1 and 100. Find the minimum and maximum values of the matrix along with their indices.\n",
        "rand_integer_array = np.random.randint(1, 101, (10,10))\n",
        "min_value = np.min(rand_integer_array)\n",
        "max_value = np.max(rand_integer_array)\n",
        "min_index = np.unravel_index(np.argmin(rand_integer_array),(10, 10))\n",
        "max_index = np.unravel_index(np.argmax(rand_integer_array),(10, 10))\n",
        "\n",
        "print(rand_integer_array)\n",
        "print(\"Minimum Value:\", min_value)\n",
        "print(\"Maximum Value:\", max_value)\n",
        "print(\"Index of minimum value\", min_index)\n",
        "print(\"Index of maximum value\", max_index)"
      ],
      "metadata": {
        "colab": {
          "base_uri": "https://localhost:8080/"
        },
        "id": "aau0dc_MjvLy",
        "outputId": "804feb99-8dca-4019-a192-811938e2b84a"
      },
      "execution_count": null,
      "outputs": [
        {
          "output_type": "stream",
          "name": "stdout",
          "text": [
            "[[ 29  96  66  81  83  15  22  70  34   3]\n",
            " [ 28  20  16  72  30  36  98  49  50  81]\n",
            " [ 57  64  89  59   6  52  62  84  18  46]\n",
            " [ 97  63  23  98  10   6  77  62  43  17]\n",
            " [ 60  18  69  61  26  15  62  54  82  30]\n",
            " [ 71  29  75   6  85  56  51  87  54  11]\n",
            " [ 44  60  31  60  15  49  57  66   8  70]\n",
            " [ 16  53  33  88  79  35  30  52  90  54]\n",
            " [  5  65  27  85   6  89  18  69  57  33]\n",
            " [ 82  73  74  32  95  74  49 100  33  15]]\n",
            "Minimum Value: 3\n",
            "Maximum Value: 100\n",
            "Index of minimum value (0, 9)\n",
            "Index of maximum value (9, 7)\n"
          ]
        }
      ]
    },
    {
      "cell_type": "code",
      "source": [],
      "metadata": {
        "id": "pRYeiS8xlXsK"
      },
      "execution_count": null,
      "outputs": []
    }
  ]
}
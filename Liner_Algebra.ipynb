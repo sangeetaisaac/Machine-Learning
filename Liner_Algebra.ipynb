{
  "nbformat": 4,
  "nbformat_minor": 0,
  "metadata": {
    "colab": {
      "provenance": [],
      "authorship_tag": "ABX9TyNLUKLkVSkChjGZUt+SaJYS",
      "include_colab_link": true
    },
    "kernelspec": {
      "name": "python3",
      "display_name": "Python 3"
    },
    "language_info": {
      "name": "python"
    }
  },
  "cells": [
    {
      "cell_type": "markdown",
      "metadata": {
        "id": "view-in-github",
        "colab_type": "text"
      },
      "source": [
        "<a href=\"https://colab.research.google.com/github/sangeetaisaac/Machine-Learning/blob/main/Liner_Algebra.ipynb\" target=\"_parent\"><img src=\"https://colab.research.google.com/assets/colab-badge.svg\" alt=\"Open In Colab\"/></a>"
      ]
    },
    {
      "cell_type": "code",
      "execution_count": null,
      "metadata": {
        "id": "qdqndWQlbTUE"
      },
      "outputs": [],
      "source": [
        "import numpy as np"
      ]
    },
    {
      "cell_type": "markdown",
      "source": [
        "## Vectors\n",
        "\n",
        "```\n",
        "# A Vector in Python is a one dimensional array of lists\n",
        "```\n",
        "\n"
      ],
      "metadata": {
        "id": "3hsQFc3WEfvU"
      }
    },
    {
      "cell_type": "code",
      "source": [
        "mylist = [1, 2, 3]\n",
        "\n",
        "myVect = np.array(mylist)\n",
        "print(\"Printing the vector\")\n",
        "print(myVect)"
      ],
      "metadata": {
        "colab": {
          "base_uri": "https://localhost:8080/"
        },
        "id": "gkKJa-FTExG_",
        "outputId": "ce200af0-aeda-4db5-b59d-d4a742df7bee"
      },
      "execution_count": null,
      "outputs": [
        {
          "output_type": "stream",
          "name": "stdout",
          "text": [
            "Printing the vector\n",
            "[1 2 3]\n"
          ]
        }
      ]
    },
    {
      "cell_type": "markdown",
      "source": [
        "#Horizontal and Verical vectors"
      ],
      "metadata": {
        "id": "NtYmpyw2GxI_"
      }
    },
    {
      "cell_type": "code",
      "source": [
        "lst1 = [1,2,3,4,5]\n",
        "lst2 = [[1], [2], [3], [4], [5]]\n",
        "horVector = np.array(lst1)\n",
        "vertVector = np.array(lst2)\n",
        "print(\"Horizontal Vector created from list: \")\n",
        "print(horVector)\n",
        "print(\"Vertical Vector created from list: \")\n",
        "print(vertVector)"
      ],
      "metadata": {
        "colab": {
          "base_uri": "https://localhost:8080/"
        },
        "id": "01O01b65Gi-L",
        "outputId": "30b4efae-ae58-41d9-e367-1d1a8f7f42a5"
      },
      "execution_count": null,
      "outputs": [
        {
          "output_type": "stream",
          "name": "stdout",
          "text": [
            "Horizontal Vector created from list: \n",
            "[1 2 3 4 5]\n",
            "Vertical Vector created from list: \n",
            "[[1]\n",
            " [2]\n",
            " [3]\n",
            " [4]\n",
            " [5]]\n"
          ]
        }
      ]
    },
    {
      "cell_type": "markdown",
      "source": [
        "#Vector Operations\n",
        "###Addition\n",
        "###Subtraction\n",
        "###Multiplication\n",
        "###Division\n",
        "###Operation with scalars"
      ],
      "metadata": {
        "id": "zOkkLDlTHdOS"
      }
    },
    {
      "cell_type": "code",
      "source": [
        "#Addition of 2 dimensional vectors in the same direction\n",
        "\n",
        "vect1 = np.array([2,2])\n",
        "vect2 = np.array([3,3])\n",
        "vecSum = vect1 + vect2\n",
        "vecDiff = vect1 - vect2\n",
        "vecProd = vect1 * vect2\n",
        "vecDiv = vect1 / vect2\n",
        "scalarVect = vect2 * 5\n",
        "\n",
        "print(\"Vector Sum:\")\n",
        "print(vecSum)\n",
        "print(\"Vector Difference:\")\n",
        "print(vecDiff)\n",
        "print(\"Vector Product:\")\n",
        "print(vecProd)\n",
        "print(\"Vector Division:\")\n",
        "print(vecDiv)\n",
        "print(\"Scalar operation:\")\n",
        "print(scalarVect)"
      ],
      "metadata": {
        "colab": {
          "base_uri": "https://localhost:8080/"
        },
        "id": "06JsUlMbHcBm",
        "outputId": "483ee834-f707-4c37-d8e4-8b4ecf6f1360"
      },
      "execution_count": null,
      "outputs": [
        {
          "output_type": "stream",
          "name": "stdout",
          "text": [
            "Vector Sum:\n",
            "[5 5]\n",
            "Vector Difference:\n",
            "[-1 -1]\n",
            "Vector Product:\n",
            "[6 6]\n",
            "Vector Division:\n",
            "[0.66666667 0.66666667]\n",
            "Scalar operation:\n",
            "[15 15]\n"
          ]
        }
      ]
    },
    {
      "cell_type": "markdown",
      "source": [
        "#Calculate the Norm (Magnitude) of A Vector"
      ],
      "metadata": {
        "id": "5wgZ4BbJM1mw"
      }
    },
    {
      "cell_type": "code",
      "source": [
        "#Calculate using math libraries\n",
        "import numpy as np\n",
        "import math\n",
        "\n",
        "x = np.array([2,8])\n",
        "norm = math.sqrt(x[0]** 2 + x[1]**2)\n",
        "print(norm)\n",
        "\n",
        "#Calculate using numpy libraries\n",
        "norm2 = np.linalg.norm(x)\n",
        "print(norm2)"
      ],
      "metadata": {
        "id": "KdZfXw0PJF5E",
        "colab": {
          "base_uri": "https://localhost:8080/"
        },
        "outputId": "cea9276d-47d1-4205-84a9-4db652f809b9"
      },
      "execution_count": null,
      "outputs": [
        {
          "output_type": "stream",
          "name": "stdout",
          "text": [
            "8.246211251235321\n",
            "8.246211251235321\n"
          ]
        }
      ]
    },
    {
      "cell_type": "markdown",
      "source": [
        "# Calculate the distance between vectors (Useful for k-means clusters)"
      ],
      "metadata": {
        "id": "-9t7HKEWOR2A"
      }
    },
    {
      "cell_type": "code",
      "source": [
        "a = np.array([10,3])\n",
        "b = np.array([3,7])\n",
        "\n",
        "norm_a = np.linalg.norm(a)\n",
        "norm_b = np.linalg.norm(b)\n",
        "dist = np.linalg.norm(a - b)\n",
        "print(norm_a)\n",
        "print(norm_b)\n",
        "print(dist)"
      ],
      "metadata": {
        "colab": {
          "base_uri": "https://localhost:8080/"
        },
        "id": "NmZgpWg2Nk2D",
        "outputId": "f3643aeb-cb34-459c-99bc-a970659ae34c"
      },
      "execution_count": null,
      "outputs": [
        {
          "output_type": "stream",
          "name": "stdout",
          "text": [
            "10.44030650891055\n",
            "7.615773105863909\n",
            "8.06225774829855\n"
          ]
        }
      ]
    },
    {
      "cell_type": "markdown",
      "source": [
        "# Calculate the dot product of 2 vectors"
      ],
      "metadata": {
        "id": "zxn6UCvKZBz-"
      }
    },
    {
      "cell_type": "code",
      "source": [
        "u = np.array([3,7])\n",
        "v = np.array([10,3])\n",
        "\n",
        "dot_uv = u[0]*v[0] + u[1]*v[1]\n",
        "dot_uv_alt = np.dot(u, v)\n",
        "\n",
        "print(dot_uv)\n",
        "print(dot_uv_alt)\n"
      ],
      "metadata": {
        "colab": {
          "base_uri": "https://localhost:8080/"
        },
        "id": "SsTZdQNaPX5c",
        "outputId": "adc97947-2f9e-4cd0-d3c5-46c98a3fd6dc"
      },
      "execution_count": null,
      "outputs": [
        {
          "output_type": "stream",
          "name": "stdout",
          "text": [
            "51\n",
            "51\n"
          ]
        }
      ]
    },
    {
      "cell_type": "markdown",
      "source": [
        "# Dot product of perpendicular vectors\n",
        "#### The Dot product of perpedicular vectors is 0 - They are orthogonal vectors"
      ],
      "metadata": {
        "id": "FGgP9xo7b2u4"
      }
    },
    {
      "cell_type": "code",
      "source": [
        "\n",
        "\n",
        "u1 = np.array([0,4])\n",
        "v1 = np.array([4,0])\n",
        "\n",
        "dot_u1v1 = np.dot(u1, v1)\n",
        "print(dot_u1v1)"
      ],
      "metadata": {
        "colab": {
          "base_uri": "https://localhost:8080/"
        },
        "id": "WVVLzzQNb2dL",
        "outputId": "fd5baab1-458e-44c1-8843-934d2887642c"
      },
      "execution_count": null,
      "outputs": [
        {
          "output_type": "stream",
          "name": "stdout",
          "text": [
            "0\n"
          ]
        }
      ]
    },
    {
      "cell_type": "markdown",
      "source": [
        "# calculate the angle between 2 vectors"
      ],
      "metadata": {
        "id": "p04merHDdBeK"
      }
    },
    {
      "cell_type": "code",
      "source": [
        "a = np.array([10,3,2,3])\n",
        "b = np.array([3,7,4,5])\n",
        "\n",
        "theta = math.acos(np.dot(a,b)/(np.linalg.norm(a) * np.linalg.norm(b)))\n",
        "print(f\"Angle= {theta} rads\")"
      ],
      "metadata": {
        "colab": {
          "base_uri": "https://localhost:8080/"
        },
        "id": "blxlgLLhdBOj",
        "outputId": "bd15a926-4544-4af9-a846-cd1cef0ab917"
      },
      "execution_count": null,
      "outputs": [
        {
          "output_type": "stream",
          "name": "stdout",
          "text": [
            "Angle= 0.8320796291729496 rads\n"
          ]
        }
      ]
    },
    {
      "cell_type": "markdown",
      "source": [
        "#Calculate the cross product and the magnitude of the cross product"
      ],
      "metadata": {
        "id": "hBGTSGJkrnn0"
      }
    },
    {
      "cell_type": "code",
      "source": [
        "c = np.array([1,2,5])\n",
        "d = np.array([2,-4,5])\n",
        "\n",
        "cross_prod_cd = np.cross(c,d)\n",
        "print(f\"c X d = {cross_prod_cd}\")\n",
        "\n",
        "mag_cross_cd = np.linalg.norm(cross_prod_cd)\n",
        "print(f\"|c X d| = {mag_cross_cd}\")"
      ],
      "metadata": {
        "colab": {
          "base_uri": "https://localhost:8080/"
        },
        "id": "mer4WdbNrnVk",
        "outputId": "ef8f7dc3-7d6b-471a-adbd-d3c1026da1c1"
      },
      "execution_count": null,
      "outputs": [
        {
          "output_type": "stream",
          "name": "stdout",
          "text": [
            "c X d = [30  5 -8]\n",
            "|c X d| = 31.448370387032774\n"
          ]
        }
      ]
    },
    {
      "cell_type": "markdown",
      "source": [
        "# Calculate the projection of vector e over f"
      ],
      "metadata": {
        "id": "jO2h3-FItUrQ"
      }
    },
    {
      "cell_type": "code",
      "source": [
        "e = np.array([1, -2, 3])\n",
        "f = np.array([2, 4, 5])\n",
        "\n",
        "#Calculate the magnitude of the projection\n",
        "mag_proj = np.dot(e,f)/np.linalg.norm(f)\n",
        "\n",
        "#Calculate the projection\n",
        "print(mag_proj/np.linalg.norm(f))\n",
        "proj = ((mag_proj/np.linalg.norm(f))*f)\n",
        "print(proj)"
      ],
      "metadata": {
        "colab": {
          "base_uri": "https://localhost:8080/"
        },
        "id": "q5Vuqlb7bjFZ",
        "outputId": "af383eb7-98e2-466a-e538-226779cffd9f"
      },
      "execution_count": null,
      "outputs": [
        {
          "output_type": "stream",
          "name": "stdout",
          "text": [
            "0.19999999999999998\n",
            "[0.4 0.8 1. ]\n"
          ]
        }
      ]
    },
    {
      "cell_type": "markdown",
      "source": [
        "#Matrix operations - Addition\n"
      ],
      "metadata": {
        "id": "4geZ1zfh4Nbt"
      }
    },
    {
      "cell_type": "code",
      "source": [
        "A = np.array([[1,2],[2,4]])\n",
        "B = np.array([[10,1],[5,3]])\n",
        "\n",
        "C = A + B\n",
        "print(C)"
      ],
      "metadata": {
        "colab": {
          "base_uri": "https://localhost:8080/"
        },
        "id": "M2Y90eGw4PCz",
        "outputId": "06723bc0-d525-46b7-cc78-a3a348107003"
      },
      "execution_count": null,
      "outputs": [
        {
          "output_type": "stream",
          "name": "stdout",
          "text": [
            "[[11  3]\n",
            " [ 7  7]]\n"
          ]
        }
      ]
    },
    {
      "cell_type": "markdown",
      "source": [
        "#Scalar Multiplication"
      ],
      "metadata": {
        "id": "pg1ECCwD5Kcx"
      }
    },
    {
      "cell_type": "code",
      "source": [
        "A = np.array([[1,2,3],[4,5,6],[7,8,9]])\n",
        "print(5*A)"
      ],
      "metadata": {
        "colab": {
          "base_uri": "https://localhost:8080/"
        },
        "id": "cTQHm0I45KJw",
        "outputId": "2e7a96cd-fdf3-47dc-995b-7ec52e09d59b"
      },
      "execution_count": null,
      "outputs": [
        {
          "output_type": "stream",
          "name": "stdout",
          "text": [
            "[[ 5 10 15]\n",
            " [20 25 30]\n",
            " [35 40 45]]\n"
          ]
        }
      ]
    },
    {
      "cell_type": "markdown",
      "source": [
        "# Matrix Multiplication"
      ],
      "metadata": {
        "id": "Uou425nqV_w3"
      }
    },
    {
      "cell_type": "code",
      "source": [
        "A = np.array([[1,2], [2,1]])\n",
        "B = np.array([[2,1], [1,2]])\n",
        "\n",
        "# Calculate the matrix multiplication\n",
        "C = np.matmul(A, B)\n",
        "D = np.matmul(B, C)\n",
        "print(f\"A*B: {C}\")\n",
        "print(f\"B(AB): {D}\")"
      ],
      "metadata": {
        "id": "gDFU4H1f4jZz",
        "colab": {
          "base_uri": "https://localhost:8080/"
        },
        "outputId": "6de31cde-aa87-407e-e544-8b1f1ca5cf66"
      },
      "execution_count": null,
      "outputs": [
        {
          "output_type": "stream",
          "name": "stdout",
          "text": [
            "A*B: [[4 5]\n",
            " [5 4]]\n",
            "B(AB): [[13 14]\n",
            " [14 13]]\n"
          ]
        }
      ]
    },
    {
      "cell_type": "markdown",
      "source": [
        "#Determinant of a Matrix\n",
        "###Scalar value computed from a Square Matrix. Used to determine if the matrix can have an inverse matrix."
      ],
      "metadata": {
        "id": "Wets8YbZqGQD"
      }
    },
    {
      "cell_type": "code",
      "source": [
        "import numpy as np\n",
        "\n",
        "U = np.array([[3, 7, 0], [8, 0, -2], [0, -4, -5]])\n",
        "det_U = np.linalg.det(U)\n",
        "print(f\"Determinant = {round(det_U)}\")"
      ],
      "metadata": {
        "colab": {
          "base_uri": "https://localhost:8080/"
        },
        "id": "rQA8eSM9qFkF",
        "outputId": "21977e50-6fce-4a55-aca3-887444694302"
      },
      "execution_count": 8,
      "outputs": [
        {
          "output_type": "stream",
          "name": "stdout",
          "text": [
            "Determinant = 256\n"
          ]
        }
      ]
    },
    {
      "cell_type": "markdown",
      "source": [
        "#Rank of a Matrix\n",
        "###Rank of a matrix helps you understand how many rows/columns are unique. Rank is closely related to determinant."
      ],
      "metadata": {
        "id": "wpooN0PUvrk6"
      }
    },
    {
      "cell_type": "code",
      "source": [
        "import numpy as np\n",
        "\n",
        "V = np.array([[2,1],[4,2]])\n",
        "rank = np.linalg.matrix_rank(V)\n",
        "print(rank)\n"
      ],
      "metadata": {
        "id": "3qA4IH9rXfbz",
        "colab": {
          "base_uri": "https://localhost:8080/"
        },
        "outputId": "c6c0bf8c-55e9-45dc-d19d-0dcc3a756e80"
      },
      "execution_count": 4,
      "outputs": [
        {
          "output_type": "stream",
          "name": "stdout",
          "text": [
            "1\n"
          ]
        }
      ]
    },
    {
      "cell_type": "markdown",
      "source": [
        "#Row Echolon Form to Find Rank (and solve linear equations)\n",
        "###Simple row transformations to represent a matrix in their simplest versions"
      ],
      "metadata": {
        "id": "z46Vklrnw3mX"
      }
    },
    {
      "cell_type": "code",
      "source": [
        "from sympy import *\n",
        "A = Matrix([[1,2,1],[-2,-3,1],[3,5,0],[2,4,2]])\n",
        "print(A)\n",
        "B = A.rref()\n",
        "print(B)"
      ],
      "metadata": {
        "colab": {
          "base_uri": "https://localhost:8080/"
        },
        "id": "X05Ov1CowZ23",
        "outputId": "72083086-03bb-4e52-95bb-b542236bcf6c"
      },
      "execution_count": 7,
      "outputs": [
        {
          "output_type": "stream",
          "name": "stdout",
          "text": [
            "Matrix([[1, 2, 1], [-2, -3, 1], [3, 5, 0], [2, 4, 2]])\n",
            "(Matrix([\n",
            "[1, 0, -5],\n",
            "[0, 1,  3],\n",
            "[0, 0,  0],\n",
            "[0, 0,  0]]), (0, 1))\n"
          ]
        }
      ]
    },
    {
      "cell_type": "markdown",
      "source": [
        "##Transpose of a Matrix\n",
        "###Operation that flips the matrix over its diagonal"
      ],
      "metadata": {
        "id": "MMl24LGVl5Sp"
      }
    },
    {
      "cell_type": "code",
      "source": [
        "import numpy as np\n",
        "\n",
        "matrix = np.array([[1,2],[3,4]])\n",
        "\n",
        "#calculate the transpose of the matrix\n",
        "transpose_matrix = np.transpose(matrix)\n",
        "transpose_of_transpose = np.transpose(transpose_matrix)\n",
        "\n",
        "print(f\"Transposed Matrix =\\n {transpose_matrix}\")\n",
        "print(f\"Transpose of transposed matrix =\\n {transpose_of_transpose}\")"
      ],
      "metadata": {
        "colab": {
          "base_uri": "https://localhost:8080/"
        },
        "id": "1nkzgj11ypr1",
        "outputId": "a4a58ec1-98c3-44da-c216-11e304f71df6"
      },
      "execution_count": 1,
      "outputs": [
        {
          "output_type": "stream",
          "name": "stdout",
          "text": [
            "Transposed Matrix =\n",
            " [[1 3]\n",
            " [2 4]]\n",
            "Transpose of transposed matrix =\n",
            " [[1 2]\n",
            " [3 4]]\n"
          ]
        }
      ]
    },
    {
      "cell_type": "markdown",
      "source": [
        "#Inverse of a Matrix\n",
        "###Inverse of a square matrix is another matrix A^-1 which when multiplied by A gives Identity matrix I"
      ],
      "metadata": {
        "id": "NX43UnGlN8Qt"
      }
    },
    {
      "cell_type": "code",
      "source": [
        "A = np.array([[2,1], [7,4]])\n",
        "AInv = np.linalg.inv(A)\n",
        "print(AInv)"
      ],
      "metadata": {
        "colab": {
          "base_uri": "https://localhost:8080/"
        },
        "id": "VcYw3M4cMOYt",
        "outputId": "aa88be73-f560-48de-d0e4-403591d9066d"
      },
      "execution_count": 4,
      "outputs": [
        {
          "output_type": "stream",
          "name": "stdout",
          "text": [
            "[[ 4. -1.]\n",
            " [-7.  2.]]\n"
          ]
        }
      ]
    },
    {
      "cell_type": "code",
      "source": [],
      "metadata": {
        "id": "DMtRFON_PEt_"
      },
      "execution_count": null,
      "outputs": []
    }
  ]
}
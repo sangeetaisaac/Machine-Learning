{
  "nbformat": 4,
  "nbformat_minor": 0,
  "metadata": {
    "colab": {
      "provenance": [],
      "authorship_tag": "ABX9TyOF7Olnr25FpgxXzFCTRlb1",
      "include_colab_link": true
    },
    "kernelspec": {
      "name": "python3",
      "display_name": "Python 3"
    },
    "language_info": {
      "name": "python"
    }
  },
  "cells": [
    {
      "cell_type": "markdown",
      "metadata": {
        "id": "view-in-github",
        "colab_type": "text"
      },
      "source": [
        "<a href=\"https://colab.research.google.com/github/sangeetaisaac/Machine-Learning/blob/main/pandas_examples.ipynb\" target=\"_parent\"><img src=\"https://colab.research.google.com/assets/colab-badge.svg\" alt=\"Open In Colab\"/></a>"
      ]
    },
    {
      "cell_type": "code",
      "execution_count": null,
      "metadata": {
        "colab": {
          "base_uri": "https://localhost:8080/",
          "height": 35
        },
        "id": "3ZFvn1lJ5Ta9",
        "outputId": "c604c56d-292f-4c32-e2b1-f9dd640c3aa3"
      },
      "outputs": [
        {
          "output_type": "execute_result",
          "data": {
            "text/plain": [
              "'1.5.3'"
            ],
            "application/vnd.google.colaboratory.intrinsic+json": {
              "type": "string"
            }
          },
          "metadata": {},
          "execution_count": 1
        }
      ],
      "source": [
        "import pandas as pd\n",
        "import numpy as np\n",
        "\n",
        "pd.__version__"
      ]
    },
    {
      "cell_type": "code",
      "source": [
        "# create a pandas series\n",
        "\n",
        "s1 = pd.Series([3,4,5,6,7], dtype=float)\n",
        "print(s1)\n",
        "print(s1.values)\n",
        "print(s1.index)\n",
        "print(s1[3])"
      ],
      "metadata": {
        "id": "uinRii9q5aBI",
        "colab": {
          "base_uri": "https://localhost:8080/"
        },
        "outputId": "91d6f81c-359f-4dc7-de02-f124ffc27d0e"
      },
      "execution_count": null,
      "outputs": [
        {
          "output_type": "stream",
          "name": "stdout",
          "text": [
            "0    3.0\n",
            "1    4.0\n",
            "2    5.0\n",
            "3    6.0\n",
            "4    7.0\n",
            "dtype: float64\n",
            "[3. 4. 5. 6. 7.]\n",
            "RangeIndex(start=0, stop=5, step=1)\n",
            "6.0\n"
          ]
        }
      ]
    },
    {
      "cell_type": "code",
      "source": [
        "# Create a pandas series with index parameter and access the values , indices\n",
        "\n",
        "s2 = pd.Series([3,4,5,6,7], index=['March', 'April', 'May', 'June', 'July'])\n",
        "print(s2)\n",
        "print(s2.values)\n",
        "print(s2.index)\n",
        "print(s2.April)"
      ],
      "metadata": {
        "id": "psAGu8GW5h1g",
        "colab": {
          "base_uri": "https://localhost:8080/"
        },
        "outputId": "99c260a1-a1e4-454b-c00a-2ca933e3634e"
      },
      "execution_count": null,
      "outputs": [
        {
          "output_type": "stream",
          "name": "stdout",
          "text": [
            "March    3\n",
            "April    4\n",
            "May      5\n",
            "June     6\n",
            "July     7\n",
            "dtype: int64\n",
            "[3 4 5 6 7]\n",
            "Index(['March', 'April', 'May', 'June', 'July'], dtype='object')\n",
            "4\n"
          ]
        }
      ]
    },
    {
      "cell_type": "code",
      "source": [
        "# Create a pandas dataframe from a dictionary\n",
        "\n",
        "data_frame = pd.DataFrame({'City':['Toronto', 'Mumbai', 'Houston', 'Austin', 'College Station'],\n",
        "                           'Year':[2022, 1987,2020,2015,2013]}, index = ['a','b','c','d', 'e'])\n",
        "print(data_frame)"
      ],
      "metadata": {
        "colab": {
          "base_uri": "https://localhost:8080/"
        },
        "id": "d_SBqIhCf6Q5",
        "outputId": "11f8a872-ebcb-4380-80a3-33333eb0e7eb"
      },
      "execution_count": null,
      "outputs": [
        {
          "output_type": "stream",
          "name": "stdout",
          "text": [
            "              City  Year\n",
            "a          Toronto  2022\n",
            "b           Mumbai  1987\n",
            "c          Houston  2020\n",
            "d           Austin  2015\n",
            "e  College Station  2013\n"
          ]
        }
      ]
    },
    {
      "cell_type": "code",
      "source": [
        "# Create a pandas dataframe from a numpy array and the values are from a standard normal distribution\n",
        "\n",
        "arr1 = np.random.randn(5,3)\n",
        "\n",
        "df = pd.DataFrame(arr1, columns=['A', 'B', 'C'])\n",
        "print(df)"
      ],
      "metadata": {
        "colab": {
          "base_uri": "https://localhost:8080/"
        },
        "id": "OBmaudM5kNzD",
        "outputId": "cbf0b78d-3bd3-446f-8467-e168b09f586b"
      },
      "execution_count": null,
      "outputs": [
        {
          "output_type": "stream",
          "name": "stdout",
          "text": [
            "          A         B         C\n",
            "0  0.101690  1.323819  0.499840\n",
            "1 -0.384334  1.217441 -0.143479\n",
            "2 -1.355664 -0.614983  0.278091\n",
            "3 -0.206157  2.710141  0.161147\n",
            "4  1.299134  1.011384  0.560531\n"
          ]
        }
      ]
    },
    {
      "cell_type": "code",
      "source": [
        "# Create a dataframe from a dictionary of Series objects\n",
        "cities_dict = {'California': 47364732, 'Texas': 5848774, 'Arizona': 8347348}\n",
        "series_cities = pd.Series(cities_dict)\n",
        "print(series_cities)\n",
        "df_cities = pd.DataFrame(series_cities, columns = ['Area'])\n",
        "print(df_cities)"
      ],
      "metadata": {
        "colab": {
          "base_uri": "https://localhost:8080/"
        },
        "id": "VD1RZ8AxvPIK",
        "outputId": "f56baa8c-afc9-45cf-991a-20835578306f"
      },
      "execution_count": null,
      "outputs": [
        {
          "output_type": "stream",
          "name": "stdout",
          "text": [
            "California    47364732\n",
            "Texas          5848774\n",
            "Arizona        8347348\n",
            "dtype: int64\n",
            "                Area\n",
            "California  47364732\n",
            "Texas        5848774\n",
            "Arizona      8347348\n"
          ]
        }
      ]
    },
    {
      "cell_type": "code",
      "source": [
        " #Create a dataframe from a 2d array\n",
        " A = pd.DataFrame(np.random.rand(3, 2), columns=['foo', 'bar'], index=['a', 'b', 'c'])\n",
        " print(A)"
      ],
      "metadata": {
        "colab": {
          "base_uri": "https://localhost:8080/"
        },
        "id": "RzJQrtta0B9g",
        "outputId": "04433215-8ebb-436f-c009-3dbc0ea9105f"
      },
      "execution_count": null,
      "outputs": [
        {
          "output_type": "stream",
          "name": "stdout",
          "text": [
            "        foo       bar\n",
            "a  0.735321  0.695222\n",
            "b  0.131802  0.853309\n",
            "c  0.465276  0.179038\n"
          ]
        }
      ]
    },
    {
      "cell_type": "code",
      "source": [
        "customer_dict = {'Name': ['Lily', 'Emma', 'John'],\n",
        "                 'Age': [38, 15, 28],\n",
        "                 'Education':['High School', 'Bachelors', 'Masters'],\n",
        "                 'Gender': ['f', 'f', 'm']}\n",
        "customer = pd.DataFrame(customer_dict)\n",
        "print(customer)"
      ],
      "metadata": {
        "id": "Oc6SAx1y2_p4",
        "colab": {
          "base_uri": "https://localhost:8080/"
        },
        "outputId": "8cdd4b46-bd22-4d7d-d3f4-5e7bfb031d1f"
      },
      "execution_count": null,
      "outputs": [
        {
          "output_type": "stream",
          "name": "stdout",
          "text": [
            "   Name  Age    Education Gender\n",
            "0  Lily   38  High School      f\n",
            "1  Emma   15    Bachelors      f\n",
            "2  John   28      Masters      m\n"
          ]
        }
      ]
    },
    {
      "cell_type": "code",
      "source": [
        "# Use the loc and iloc methods to select the first 2 rows\n",
        "print(customer.loc[:1, ['Age', 'Education']])\n",
        "print(customer.iloc[:2,1:3])"
      ],
      "metadata": {
        "colab": {
          "base_uri": "https://localhost:8080/"
        },
        "id": "rr6gnyGzpv0C",
        "outputId": "95918654-95b0-4fc0-b570-b3046239185f"
      },
      "execution_count": null,
      "outputs": [
        {
          "output_type": "stream",
          "name": "stdout",
          "text": [
            "   Age    Education\n",
            "0   38  High School\n",
            "1   15    Bachelors\n",
            "   Age    Education\n",
            "0   38  High School\n",
            "1   15    Bachelors\n"
          ]
        }
      ]
    },
    {
      "cell_type": "code",
      "source": [
        "# Using filters display a subset of the columns\n",
        "customer_filter = (customer['Gender'] == 'f') & (customer['Age'] == 38)\n",
        "print(customer[customer_filter])"
      ],
      "metadata": {
        "colab": {
          "base_uri": "https://localhost:8080/"
        },
        "id": "Yh0ttoJk0IJU",
        "outputId": "d254d916-d879-4673-9e2d-b003391458c5"
      },
      "execution_count": null,
      "outputs": [
        {
          "output_type": "stream",
          "name": "stdout",
          "text": [
            "   Name  Age    Education Gender\n",
            "0  Lily   38  High School      f\n"
          ]
        }
      ]
    },
    {
      "cell_type": "code",
      "source": [
        "# Find out what element is missing in the data frame\n",
        "df = pd.DataFrame({\"A\": [1.0, 2.0, 3.0, np.NAN],\n",
        "                  \"B\": [2.4, 6.2, 5.1, np.NAN],\n",
        "                  \"C\": [\"foo\", \"zoo\", \"bar\", None]})\n",
        "\n",
        "print(df)\n",
        "print(df.isna())\n",
        "print(df.notna())"
      ],
      "metadata": {
        "id": "jhjgaCME4MKI",
        "colab": {
          "base_uri": "https://localhost:8080/"
        },
        "outputId": "04e582a4-d1d2-47a3-b985-fc1980c60f6e"
      },
      "execution_count": null,
      "outputs": [
        {
          "output_type": "stream",
          "name": "stdout",
          "text": [
            "     A    B     C\n",
            "0  1.0  2.4   foo\n",
            "1  2.0  6.2   zoo\n",
            "2  3.0  5.1   bar\n",
            "3  NaN  NaN  None\n",
            "       A      B      C\n",
            "0  False  False  False\n",
            "1  False  False  False\n",
            "2  False  False  False\n",
            "3   True   True   True\n",
            "       A      B      C\n",
            "0   True   True   True\n",
            "1   True   True   True\n",
            "2   True   True   True\n",
            "3  False  False  False\n"
          ]
        }
      ]
    },
    {
      "cell_type": "code",
      "source": [
        "\n",
        "df_students = pd.DataFrame({\"A\": [1, 2, 3, 4, 7],\n",
        "                            \"B\": [2.4, np.NaN, 5.1, np.NaN, 2.6],\n",
        "                            \"C\": [\"phd\", \"phd\", \"high school\", \"high school\", np.NaN],\n",
        "                            \"D\": [3.0, np.NaN, np.NaN, np.NaN, np.NaN]})\n",
        "print(df_students, \"\\n\")\n",
        "\n",
        "# Drop rows that have atleast 1 missing value\n",
        "\n",
        "df_students_dropped = df_students.dropna(axis=0, how = 'any')\n",
        "print(\"Dropped dataframe = \\n\")\n",
        "print(df_students_dropped)\n",
        "\n",
        "# Keep rows that have atleast 3 non-missing values\n",
        "df_students_keep = df_students.dropna(axis=0, thresh=3)\n",
        "print(\"Dropped dataframe = \\n\")\n",
        "print(df_students_keep)"
      ],
      "metadata": {
        "colab": {
          "base_uri": "https://localhost:8080/"
        },
        "id": "xZWrYbioJlMM",
        "outputId": "df6a2cfc-1bd1-4896-ff14-6386fe44d17b"
      },
      "execution_count": null,
      "outputs": [
        {
          "output_type": "stream",
          "name": "stdout",
          "text": [
            "   A    B            C    D\n",
            "0  1  2.4          phd  3.0\n",
            "1  2  NaN          phd  NaN\n",
            "2  3  5.1  high school  NaN\n",
            "3  4  NaN  high school  NaN\n",
            "4  7  2.6          NaN  NaN \n",
            "\n",
            "Dropped dataframe = \n",
            "\n",
            "   A    B    C    D\n",
            "0  1  2.4  phd  3.0\n",
            "Dropped dataframe = \n",
            "\n",
            "   A    B            C    D\n",
            "0  1  2.4          phd  3.0\n",
            "2  3  5.1  high school  NaN\n"
          ]
        }
      ]
    },
    {
      "cell_type": "code",
      "source": [
        "# Usefillna to handle missing values\n",
        "\n",
        "df_students_fillna = pd.DataFrame({\"A\": [1, 2, 3, 4, 7],\n",
        "                            \"B\": [2.4, np.NaN, 5.1, np.NaN, 2.6],\n",
        "                            \"C\": [\"phd\", \"phd\", \"high school\", \"high school\", np.NaN],\n",
        "                            \"D\": [3.0, np.NaN, np.NaN, np.NaN, np.NaN]})\n",
        "print(df_students_fillna)\n",
        "average_value = df_students_fillna['B'].mean()\n",
        "df_students_fillna['B'].fillna(average_value, inplace=True)\n",
        "df_students_fillna['D'].fillna(3.0, inplace=True)\n",
        "value_mode = df_students_fillna['C'].mode()[1]\n",
        "df_students_fillna['C'].fillna(value_mode, inplace=True)\n",
        "\n",
        "print(df_students_fillna)"
      ],
      "metadata": {
        "id": "xQ3sBTj7M4kC",
        "colab": {
          "base_uri": "https://localhost:8080/"
        },
        "outputId": "06f76eb3-b185-4b7a-885a-ce8d1a5c6dc8"
      },
      "execution_count": null,
      "outputs": [
        {
          "output_type": "stream",
          "name": "stdout",
          "text": [
            "   A    B            C    D\n",
            "0  1  2.4          phd  3.0\n",
            "1  2  NaN          phd  NaN\n",
            "2  3  5.1  high school  NaN\n",
            "3  4  NaN  high school  NaN\n",
            "4  7  2.6          NaN  NaN\n"
          ]
        }
      ]
    },
    {
      "cell_type": "code",
      "source": [
        "#Sort the columns of a dataframe\n",
        "\n",
        "df_sort_values = pd.DataFrame({\"Date\":['2023-09-03', '2023-10-10', '2023-08-15', '2023-09-19'],\n",
        "                               \"Product\": [\"A\", \"B\", \"C\", \"D\"],\n",
        "                               \"Revenue\": [4000, 1000, 3000, 2000]})\n",
        "print(df_sort_values)\n",
        "print(\"\\n After Sorting: \\n\")\n",
        "df_sort_values.sort_values(by=\"Revenue\", ascending=True, inplace=True)\n",
        "print(df_sort_values)"
      ],
      "metadata": {
        "colab": {
          "base_uri": "https://localhost:8080/"
        },
        "id": "FuwdfJzTAnNJ",
        "outputId": "58b50749-ad54-47e5-afa4-8f8f58710e57"
      },
      "execution_count": null,
      "outputs": [
        {
          "output_type": "stream",
          "name": "stdout",
          "text": [
            "         Date Product  Revenue\n",
            "0  2023-09-03       A     4000\n",
            "1  2023-10-10       B     1000\n",
            "2  2023-08-15       C     3000\n",
            "3  2023-09-19       D     2000\n",
            "\n",
            " After Sorting: \n",
            "\n",
            "         Date Product  Revenue\n",
            "1  2023-10-10       B     1000\n",
            "3  2023-09-19       D     2000\n",
            "2  2023-08-15       C     3000\n",
            "0  2023-09-03       A     4000\n"
          ]
        }
      ]
    },
    {
      "cell_type": "code",
      "source": [
        "#Drop Columns in a Dataframe\n",
        "\n",
        "df_products = pd.DataFrame({\"ID\":['gds73', 'tir7334', 'jfk77634', '47643'],\n",
        "                               \"Product\": [\"A\", \"B\", \"C\", \"D\"],\n",
        "                               \"Revenue\": [4000, 1000, 3000, 2000],\n",
        "                               \"Region\": [np.NaN, np.NaN, np.NaN, np.NaN],\n",
        "                               \"Expenses\": [3000, 500, 2000, 2000]\n",
        "                               })\n",
        "df_products.drop([\"ID\", \"Region\"], axis=1, inplace=True)\n",
        "print(df_products)"
      ],
      "metadata": {
        "id": "L9jmKG3DP9c1",
        "colab": {
          "base_uri": "https://localhost:8080/"
        },
        "outputId": "cf45b3d0-d90e-4c78-a9d0-85296eb86425"
      },
      "execution_count": null,
      "outputs": [
        {
          "output_type": "stream",
          "name": "stdout",
          "text": [
            "  Product  Revenue  Expenses\n",
            "0       A     4000      3000\n",
            "1       B     1000       500\n",
            "2       C     3000      2000\n",
            "3       D     2000      2000\n"
          ]
        }
      ]
    },
    {
      "cell_type": "code",
      "source": [
        "# Add 100 to the column Expenses and create a new column Profits = Revenue - Expenses\n",
        "\n",
        "df_products[\"Expenses\"] = df_products[\"Expenses\"].apply(lambda x: x + 100)\n",
        "df_products[\"Profits\"] = df_products[\"Revenue\"] - df_products[\"Expenses\"]\n",
        "\n",
        "print(df_products)"
      ],
      "metadata": {
        "colab": {
          "base_uri": "https://localhost:8080/"
        },
        "id": "zFxrbvWA_0Cm",
        "outputId": "f1f83c86-5098-4ebc-96b1-caf58433df16"
      },
      "execution_count": null,
      "outputs": [
        {
          "output_type": "stream",
          "name": "stdout",
          "text": [
            "  Product  Revenue  Expenses  Profits\n",
            "0       A     4000      3100      900\n",
            "1       B     1000       600      400\n",
            "2       C     3000      2100      900\n",
            "3       D     2000      2100     -100\n"
          ]
        }
      ]
    },
    {
      "cell_type": "code",
      "source": [
        "# Find the average value of a category using group by and aggregation functions\n",
        "\n",
        "df_product_categories = pd.DataFrame({'product_category': ['baby', 'book', 'book', 'beauty', 'baby'],\n",
        "                                      'product_price': [19.99, 12.49, 22, 49, 16],\n",
        "                                      'rating': [5, 3, 3, 2, 4]})\n",
        "print(df_product_categories)\n",
        "\n",
        "print(\"\\n What is the average rating by Product Category\")\n",
        "avg_rating_category = df_product_categories.groupby('product_category')['rating'].mean().reset_index()\n",
        "avg_rating_category.rename(columns={'rating': 'Average Rating'}, inplace=True)\n",
        "print(avg_rating_category)\n",
        "\n",
        "print(\"\\n What is the average rating of the Baby Category\")\n",
        "print(avg_rating_category[avg_rating_category['product_category'] == 'baby'])\n",
        "\n",
        "print(\"\\n What is the average rating and total sales of each category: \")\n",
        "avg_rating_category = df_product_categories.groupby('product_category').agg({'rating':'mean', 'product_price':'sum'}).reset_index()\n",
        "avg_rating_category.rename(columns = {'rating':'average_rating', 'product_price': 'total_sales'}, inplace=True)\n",
        "print(avg_rating_category)"
      ],
      "metadata": {
        "id": "3bcVOLJ5C-71",
        "colab": {
          "base_uri": "https://localhost:8080/"
        },
        "outputId": "ce6923aa-f7eb-4cb3-e202-aeceac9ac29b"
      },
      "execution_count": null,
      "outputs": [
        {
          "output_type": "stream",
          "name": "stdout",
          "text": [
            "  product_category  product_price  rating\n",
            "0             baby          19.99       5\n",
            "1             book          12.49       3\n",
            "2             book          22.00       3\n",
            "3           beauty          49.00       2\n",
            "4             baby          16.00       4\n",
            "\n",
            " What is the average rating by Product Category\n",
            "  product_category  Average Rating\n",
            "0             baby             4.5\n",
            "1           beauty             2.0\n",
            "2             book             3.0\n",
            "\n",
            " What is the average rating of the Baby Category\n",
            "  product_category  Average Rating\n",
            "0             baby             4.5\n",
            "\n",
            " What is the average rating and total sales of each category: \n",
            "  product_category  average_rating  total_sales\n",
            "0             baby             4.5        35.99\n",
            "1           beauty             2.0        49.00\n",
            "2             book             3.0        34.49\n"
          ]
        }
      ]
    },
    {
      "cell_type": "code",
      "source": [
        "\n",
        "csv_url = '/content/sample_data/california_housing_train.csv'\n",
        "california_housing = pd.read_csv(csv_url)\n",
        "\n",
        "california_housing.head(5)"
      ],
      "metadata": {
        "colab": {
          "base_uri": "https://localhost:8080/",
          "height": 226
        },
        "id": "yCkOUvjaPQtp",
        "outputId": "e33470bd-5029-4a16-d409-5c543adb64d1"
      },
      "execution_count": null,
      "outputs": [
        {
          "output_type": "execute_result",
          "data": {
            "text/plain": [
              "   longitude  latitude  housing_median_age  total_rooms  total_bedrooms  \\\n",
              "0    -114.31     34.19                15.0       5612.0          1283.0   \n",
              "1    -114.47     34.40                19.0       7650.0          1901.0   \n",
              "2    -114.56     33.69                17.0        720.0           174.0   \n",
              "3    -114.57     33.64                14.0       1501.0           337.0   \n",
              "4    -114.57     33.57                20.0       1454.0           326.0   \n",
              "\n",
              "   population  households  median_income  median_house_value  \n",
              "0      1015.0       472.0         1.4936             66900.0  \n",
              "1      1129.0       463.0         1.8200             80100.0  \n",
              "2       333.0       117.0         1.6509             85700.0  \n",
              "3       515.0       226.0         3.1917             73400.0  \n",
              "4       624.0       262.0         1.9250             65500.0  "
            ],
            "text/html": [
              "\n",
              "  <div id=\"df-53fd7b0a-9632-4443-9033-8571195ec2e5\" class=\"colab-df-container\">\n",
              "    <div>\n",
              "<style scoped>\n",
              "    .dataframe tbody tr th:only-of-type {\n",
              "        vertical-align: middle;\n",
              "    }\n",
              "\n",
              "    .dataframe tbody tr th {\n",
              "        vertical-align: top;\n",
              "    }\n",
              "\n",
              "    .dataframe thead th {\n",
              "        text-align: right;\n",
              "    }\n",
              "</style>\n",
              "<table border=\"1\" class=\"dataframe\">\n",
              "  <thead>\n",
              "    <tr style=\"text-align: right;\">\n",
              "      <th></th>\n",
              "      <th>longitude</th>\n",
              "      <th>latitude</th>\n",
              "      <th>housing_median_age</th>\n",
              "      <th>total_rooms</th>\n",
              "      <th>total_bedrooms</th>\n",
              "      <th>population</th>\n",
              "      <th>households</th>\n",
              "      <th>median_income</th>\n",
              "      <th>median_house_value</th>\n",
              "    </tr>\n",
              "  </thead>\n",
              "  <tbody>\n",
              "    <tr>\n",
              "      <th>0</th>\n",
              "      <td>-114.31</td>\n",
              "      <td>34.19</td>\n",
              "      <td>15.0</td>\n",
              "      <td>5612.0</td>\n",
              "      <td>1283.0</td>\n",
              "      <td>1015.0</td>\n",
              "      <td>472.0</td>\n",
              "      <td>1.4936</td>\n",
              "      <td>66900.0</td>\n",
              "    </tr>\n",
              "    <tr>\n",
              "      <th>1</th>\n",
              "      <td>-114.47</td>\n",
              "      <td>34.40</td>\n",
              "      <td>19.0</td>\n",
              "      <td>7650.0</td>\n",
              "      <td>1901.0</td>\n",
              "      <td>1129.0</td>\n",
              "      <td>463.0</td>\n",
              "      <td>1.8200</td>\n",
              "      <td>80100.0</td>\n",
              "    </tr>\n",
              "    <tr>\n",
              "      <th>2</th>\n",
              "      <td>-114.56</td>\n",
              "      <td>33.69</td>\n",
              "      <td>17.0</td>\n",
              "      <td>720.0</td>\n",
              "      <td>174.0</td>\n",
              "      <td>333.0</td>\n",
              "      <td>117.0</td>\n",
              "      <td>1.6509</td>\n",
              "      <td>85700.0</td>\n",
              "    </tr>\n",
              "    <tr>\n",
              "      <th>3</th>\n",
              "      <td>-114.57</td>\n",
              "      <td>33.64</td>\n",
              "      <td>14.0</td>\n",
              "      <td>1501.0</td>\n",
              "      <td>337.0</td>\n",
              "      <td>515.0</td>\n",
              "      <td>226.0</td>\n",
              "      <td>3.1917</td>\n",
              "      <td>73400.0</td>\n",
              "    </tr>\n",
              "    <tr>\n",
              "      <th>4</th>\n",
              "      <td>-114.57</td>\n",
              "      <td>33.57</td>\n",
              "      <td>20.0</td>\n",
              "      <td>1454.0</td>\n",
              "      <td>326.0</td>\n",
              "      <td>624.0</td>\n",
              "      <td>262.0</td>\n",
              "      <td>1.9250</td>\n",
              "      <td>65500.0</td>\n",
              "    </tr>\n",
              "  </tbody>\n",
              "</table>\n",
              "</div>\n",
              "    <div class=\"colab-df-buttons\">\n",
              "\n",
              "  <div class=\"colab-df-container\">\n",
              "    <button class=\"colab-df-convert\" onclick=\"convertToInteractive('df-53fd7b0a-9632-4443-9033-8571195ec2e5')\"\n",
              "            title=\"Convert this dataframe to an interactive table.\"\n",
              "            style=\"display:none;\">\n",
              "\n",
              "  <svg xmlns=\"http://www.w3.org/2000/svg\" height=\"24px\" viewBox=\"0 -960 960 960\">\n",
              "    <path d=\"M120-120v-720h720v720H120Zm60-500h600v-160H180v160Zm220 220h160v-160H400v160Zm0 220h160v-160H400v160ZM180-400h160v-160H180v160Zm440 0h160v-160H620v160ZM180-180h160v-160H180v160Zm440 0h160v-160H620v160Z\"/>\n",
              "  </svg>\n",
              "    </button>\n",
              "\n",
              "  <style>\n",
              "    .colab-df-container {\n",
              "      display:flex;\n",
              "      gap: 12px;\n",
              "    }\n",
              "\n",
              "    .colab-df-convert {\n",
              "      background-color: #E8F0FE;\n",
              "      border: none;\n",
              "      border-radius: 50%;\n",
              "      cursor: pointer;\n",
              "      display: none;\n",
              "      fill: #1967D2;\n",
              "      height: 32px;\n",
              "      padding: 0 0 0 0;\n",
              "      width: 32px;\n",
              "    }\n",
              "\n",
              "    .colab-df-convert:hover {\n",
              "      background-color: #E2EBFA;\n",
              "      box-shadow: 0px 1px 2px rgba(60, 64, 67, 0.3), 0px 1px 3px 1px rgba(60, 64, 67, 0.15);\n",
              "      fill: #174EA6;\n",
              "    }\n",
              "\n",
              "    .colab-df-buttons div {\n",
              "      margin-bottom: 4px;\n",
              "    }\n",
              "\n",
              "    [theme=dark] .colab-df-convert {\n",
              "      background-color: #3B4455;\n",
              "      fill: #D2E3FC;\n",
              "    }\n",
              "\n",
              "    [theme=dark] .colab-df-convert:hover {\n",
              "      background-color: #434B5C;\n",
              "      box-shadow: 0px 1px 3px 1px rgba(0, 0, 0, 0.15);\n",
              "      filter: drop-shadow(0px 1px 2px rgba(0, 0, 0, 0.3));\n",
              "      fill: #FFFFFF;\n",
              "    }\n",
              "  </style>\n",
              "\n",
              "    <script>\n",
              "      const buttonEl =\n",
              "        document.querySelector('#df-53fd7b0a-9632-4443-9033-8571195ec2e5 button.colab-df-convert');\n",
              "      buttonEl.style.display =\n",
              "        google.colab.kernel.accessAllowed ? 'block' : 'none';\n",
              "\n",
              "      async function convertToInteractive(key) {\n",
              "        const element = document.querySelector('#df-53fd7b0a-9632-4443-9033-8571195ec2e5');\n",
              "        const dataTable =\n",
              "          await google.colab.kernel.invokeFunction('convertToInteractive',\n",
              "                                                    [key], {});\n",
              "        if (!dataTable) return;\n",
              "\n",
              "        const docLinkHtml = 'Like what you see? Visit the ' +\n",
              "          '<a target=\"_blank\" href=https://colab.research.google.com/notebooks/data_table.ipynb>data table notebook</a>'\n",
              "          + ' to learn more about interactive tables.';\n",
              "        element.innerHTML = '';\n",
              "        dataTable['output_type'] = 'display_data';\n",
              "        await google.colab.output.renderOutput(dataTable, element);\n",
              "        const docLink = document.createElement('div');\n",
              "        docLink.innerHTML = docLinkHtml;\n",
              "        element.appendChild(docLink);\n",
              "      }\n",
              "    </script>\n",
              "  </div>\n",
              "\n",
              "\n",
              "<div id=\"df-744731b2-7b0b-4bad-9139-d6bd67e20889\">\n",
              "  <button class=\"colab-df-quickchart\" onclick=\"quickchart('df-744731b2-7b0b-4bad-9139-d6bd67e20889')\"\n",
              "            title=\"Suggest charts\"\n",
              "            style=\"display:none;\">\n",
              "\n",
              "<svg xmlns=\"http://www.w3.org/2000/svg\" height=\"24px\"viewBox=\"0 0 24 24\"\n",
              "     width=\"24px\">\n",
              "    <g>\n",
              "        <path d=\"M19 3H5c-1.1 0-2 .9-2 2v14c0 1.1.9 2 2 2h14c1.1 0 2-.9 2-2V5c0-1.1-.9-2-2-2zM9 17H7v-7h2v7zm4 0h-2V7h2v10zm4 0h-2v-4h2v4z\"/>\n",
              "    </g>\n",
              "</svg>\n",
              "  </button>\n",
              "\n",
              "<style>\n",
              "  .colab-df-quickchart {\n",
              "      --bg-color: #E8F0FE;\n",
              "      --fill-color: #1967D2;\n",
              "      --hover-bg-color: #E2EBFA;\n",
              "      --hover-fill-color: #174EA6;\n",
              "      --disabled-fill-color: #AAA;\n",
              "      --disabled-bg-color: #DDD;\n",
              "  }\n",
              "\n",
              "  [theme=dark] .colab-df-quickchart {\n",
              "      --bg-color: #3B4455;\n",
              "      --fill-color: #D2E3FC;\n",
              "      --hover-bg-color: #434B5C;\n",
              "      --hover-fill-color: #FFFFFF;\n",
              "      --disabled-bg-color: #3B4455;\n",
              "      --disabled-fill-color: #666;\n",
              "  }\n",
              "\n",
              "  .colab-df-quickchart {\n",
              "    background-color: var(--bg-color);\n",
              "    border: none;\n",
              "    border-radius: 50%;\n",
              "    cursor: pointer;\n",
              "    display: none;\n",
              "    fill: var(--fill-color);\n",
              "    height: 32px;\n",
              "    padding: 0;\n",
              "    width: 32px;\n",
              "  }\n",
              "\n",
              "  .colab-df-quickchart:hover {\n",
              "    background-color: var(--hover-bg-color);\n",
              "    box-shadow: 0 1px 2px rgba(60, 64, 67, 0.3), 0 1px 3px 1px rgba(60, 64, 67, 0.15);\n",
              "    fill: var(--button-hover-fill-color);\n",
              "  }\n",
              "\n",
              "  .colab-df-quickchart-complete:disabled,\n",
              "  .colab-df-quickchart-complete:disabled:hover {\n",
              "    background-color: var(--disabled-bg-color);\n",
              "    fill: var(--disabled-fill-color);\n",
              "    box-shadow: none;\n",
              "  }\n",
              "\n",
              "  .colab-df-spinner {\n",
              "    border: 2px solid var(--fill-color);\n",
              "    border-color: transparent;\n",
              "    border-bottom-color: var(--fill-color);\n",
              "    animation:\n",
              "      spin 1s steps(1) infinite;\n",
              "  }\n",
              "\n",
              "  @keyframes spin {\n",
              "    0% {\n",
              "      border-color: transparent;\n",
              "      border-bottom-color: var(--fill-color);\n",
              "      border-left-color: var(--fill-color);\n",
              "    }\n",
              "    20% {\n",
              "      border-color: transparent;\n",
              "      border-left-color: var(--fill-color);\n",
              "      border-top-color: var(--fill-color);\n",
              "    }\n",
              "    30% {\n",
              "      border-color: transparent;\n",
              "      border-left-color: var(--fill-color);\n",
              "      border-top-color: var(--fill-color);\n",
              "      border-right-color: var(--fill-color);\n",
              "    }\n",
              "    40% {\n",
              "      border-color: transparent;\n",
              "      border-right-color: var(--fill-color);\n",
              "      border-top-color: var(--fill-color);\n",
              "    }\n",
              "    60% {\n",
              "      border-color: transparent;\n",
              "      border-right-color: var(--fill-color);\n",
              "    }\n",
              "    80% {\n",
              "      border-color: transparent;\n",
              "      border-right-color: var(--fill-color);\n",
              "      border-bottom-color: var(--fill-color);\n",
              "    }\n",
              "    90% {\n",
              "      border-color: transparent;\n",
              "      border-bottom-color: var(--fill-color);\n",
              "    }\n",
              "  }\n",
              "</style>\n",
              "\n",
              "  <script>\n",
              "    async function quickchart(key) {\n",
              "      const quickchartButtonEl =\n",
              "        document.querySelector('#' + key + ' button');\n",
              "      quickchartButtonEl.disabled = true;  // To prevent multiple clicks.\n",
              "      quickchartButtonEl.classList.add('colab-df-spinner');\n",
              "      try {\n",
              "        const charts = await google.colab.kernel.invokeFunction(\n",
              "            'suggestCharts', [key], {});\n",
              "      } catch (error) {\n",
              "        console.error('Error during call to suggestCharts:', error);\n",
              "      }\n",
              "      quickchartButtonEl.classList.remove('colab-df-spinner');\n",
              "      quickchartButtonEl.classList.add('colab-df-quickchart-complete');\n",
              "    }\n",
              "    (() => {\n",
              "      let quickchartButtonEl =\n",
              "        document.querySelector('#df-744731b2-7b0b-4bad-9139-d6bd67e20889 button');\n",
              "      quickchartButtonEl.style.display =\n",
              "        google.colab.kernel.accessAllowed ? 'block' : 'none';\n",
              "    })();\n",
              "  </script>\n",
              "</div>\n",
              "    </div>\n",
              "  </div>\n"
            ]
          },
          "metadata": {},
          "execution_count": 5
        }
      ]
    },
    {
      "cell_type": "code",
      "source": [
        "#Concatenate Pandas dataframes by rows\n",
        "\n",
        "df_housing_head = california_housing.head(5)\n",
        "print(df_housing_head)\n",
        "\n",
        "df_housing_tail = california_housing.tail(5)\n",
        "print(df_housing_tail)\n",
        "\n",
        "df_housing_combined = pd.concat([df_housing_head, df_housing_tail], axis=0).reset_index()\n",
        "print(df_housing_combined)\n"
      ],
      "metadata": {
        "colab": {
          "base_uri": "https://localhost:8080/"
        },
        "id": "eaUntByk8jxI",
        "outputId": "6b9a5038-ff15-477e-952d-cda654f47128"
      },
      "execution_count": null,
      "outputs": [
        {
          "output_type": "stream",
          "name": "stdout",
          "text": [
            "   longitude  latitude  housing_median_age  total_rooms  total_bedrooms  \\\n",
            "0    -114.31     34.19                15.0       5612.0          1283.0   \n",
            "1    -114.47     34.40                19.0       7650.0          1901.0   \n",
            "2    -114.56     33.69                17.0        720.0           174.0   \n",
            "3    -114.57     33.64                14.0       1501.0           337.0   \n",
            "4    -114.57     33.57                20.0       1454.0           326.0   \n",
            "\n",
            "   population  households  median_income  median_house_value  \n",
            "0      1015.0       472.0         1.4936             66900.0  \n",
            "1      1129.0       463.0         1.8200             80100.0  \n",
            "2       333.0       117.0         1.6509             85700.0  \n",
            "3       515.0       226.0         3.1917             73400.0  \n",
            "4       624.0       262.0         1.9250             65500.0  \n",
            "       longitude  latitude  housing_median_age  total_rooms  total_bedrooms  \\\n",
            "16995    -124.26     40.58                52.0       2217.0           394.0   \n",
            "16996    -124.27     40.69                36.0       2349.0           528.0   \n",
            "16997    -124.30     41.84                17.0       2677.0           531.0   \n",
            "16998    -124.30     41.80                19.0       2672.0           552.0   \n",
            "16999    -124.35     40.54                52.0       1820.0           300.0   \n",
            "\n",
            "       population  households  median_income  median_house_value  \n",
            "16995       907.0       369.0         2.3571            111400.0  \n",
            "16996      1194.0       465.0         2.5179             79000.0  \n",
            "16997      1244.0       456.0         3.0313            103600.0  \n",
            "16998      1298.0       478.0         1.9797             85800.0  \n",
            "16999       806.0       270.0         3.0147             94600.0  \n",
            "   index  longitude  latitude  housing_median_age  total_rooms  \\\n",
            "0      0    -114.31     34.19                15.0       5612.0   \n",
            "1      1    -114.47     34.40                19.0       7650.0   \n",
            "2      2    -114.56     33.69                17.0        720.0   \n",
            "3      3    -114.57     33.64                14.0       1501.0   \n",
            "4      4    -114.57     33.57                20.0       1454.0   \n",
            "5  16995    -124.26     40.58                52.0       2217.0   \n",
            "6  16996    -124.27     40.69                36.0       2349.0   \n",
            "7  16997    -124.30     41.84                17.0       2677.0   \n",
            "8  16998    -124.30     41.80                19.0       2672.0   \n",
            "9  16999    -124.35     40.54                52.0       1820.0   \n",
            "\n",
            "   total_bedrooms  population  households  median_income  median_house_value  \n",
            "0          1283.0      1015.0       472.0         1.4936             66900.0  \n",
            "1          1901.0      1129.0       463.0         1.8200             80100.0  \n",
            "2           174.0       333.0       117.0         1.6509             85700.0  \n",
            "3           337.0       515.0       226.0         3.1917             73400.0  \n",
            "4           326.0       624.0       262.0         1.9250             65500.0  \n",
            "5           394.0       907.0       369.0         2.3571            111400.0  \n",
            "6           528.0      1194.0       465.0         2.5179             79000.0  \n",
            "7           531.0      1244.0       456.0         3.0313            103600.0  \n",
            "8           552.0      1298.0       478.0         1.9797             85800.0  \n",
            "9           300.0       806.0       270.0         3.0147             94600.0  \n"
          ]
        }
      ]
    },
    {
      "cell_type": "code",
      "source": [
        "#Concatenate Pandas dataframes by columns\n",
        "\n",
        "df_housing_left = california_housing[['latitude','longitude']].head(5)\n",
        "print(df_housing_left)\n",
        "\n",
        "df_housing_right = california_housing[['total_bedrooms', 'median_income']].head(5)\n",
        "print(df_housing_right)\n",
        "\n",
        "df_housing_full = pd.concat([df_housing_left, df_housing_right], axis=1).reset_index()\n",
        "print(df_housing_full)\n"
      ],
      "metadata": {
        "colab": {
          "base_uri": "https://localhost:8080/"
        },
        "id": "fq-AC6rKIeU1",
        "outputId": "762a42c9-4944-4ebe-d208-052f6ef485ce"
      },
      "execution_count": null,
      "outputs": [
        {
          "output_type": "stream",
          "name": "stdout",
          "text": [
            "   latitude  longitude\n",
            "0     34.19    -114.31\n",
            "1     34.40    -114.47\n",
            "2     33.69    -114.56\n",
            "3     33.64    -114.57\n",
            "4     33.57    -114.57\n",
            "   total_bedrooms  median_income\n",
            "0          1283.0         1.4936\n",
            "1          1901.0         1.8200\n",
            "2           174.0         1.6509\n",
            "3           337.0         3.1917\n",
            "4           326.0         1.9250\n",
            "   index  latitude  longitude  total_bedrooms  median_income\n",
            "0      0     34.19    -114.31          1283.0         1.4936\n",
            "1      1     34.40    -114.47          1901.0         1.8200\n",
            "2      2     33.69    -114.56           174.0         1.6509\n",
            "3      3     33.64    -114.57           337.0         3.1917\n",
            "4      4     33.57    -114.57           326.0         1.9250\n"
          ]
        }
      ]
    },
    {
      "cell_type": "code",
      "source": [
        "# Merge 2 datasets : Inner join, right join\n",
        "\n",
        "review_data = pd.DataFrame({\n",
        "    'product_id': ['P1', 'P2', 'P3'],\n",
        "    'review_score': [4.5, 3.8, 4.0],\n",
        "    'review_comment':['Satisfied', 'Need impovement', 'Excellent']\n",
        "\n",
        "})\n",
        "\n",
        "product_names = pd.DataFrame({\n",
        "    'product_id': ['P1', 'P2', 'P3', 'P4'],\n",
        "    'product_name': ['Product A', 'Product B', 'Product C', 'Product D']\n",
        "})\n",
        "\n",
        "reviews_merged_inner = review_data.merge(product_names, on='product_id')\n",
        "reviews_merged_right = review_data.merge(product_names, on='product_id', how='right')\n",
        "\n",
        "print(reviews_merged_inner)\n",
        "print(reviews_merged_right)"
      ],
      "metadata": {
        "colab": {
          "base_uri": "https://localhost:8080/"
        },
        "id": "CYNkkGPdJUrw",
        "outputId": "1e574adb-306b-45f1-f51b-4d8453a3c5e7"
      },
      "execution_count": null,
      "outputs": [
        {
          "output_type": "stream",
          "name": "stdout",
          "text": [
            "  product_id  review_score   review_comment product_name\n",
            "0         P1           4.5        Satisfied    Product A\n",
            "1         P2           3.8  Need impovement    Product B\n",
            "2         P3           4.0        Excellent    Product C\n",
            "  product_id  review_score   review_comment product_name\n",
            "0         P1           4.5        Satisfied    Product A\n",
            "1         P2           3.8  Need impovement    Product B\n",
            "2         P3           4.0        Excellent    Product C\n",
            "3         P4           NaN              NaN    Product D\n"
          ]
        }
      ]
    },
    {
      "cell_type": "code",
      "source": [],
      "metadata": {
        "id": "CssvPCFOMlEI"
      },
      "execution_count": null,
      "outputs": []
    }
  ]
}
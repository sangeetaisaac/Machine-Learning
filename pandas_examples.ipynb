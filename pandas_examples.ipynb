{
  "nbformat": 4,
  "nbformat_minor": 0,
  "metadata": {
    "colab": {
      "provenance": []
    },
    "kernelspec": {
      "name": "python3",
      "display_name": "Python 3"
    },
    "language_info": {
      "name": "python"
    }
  },
  "cells": [
    {
      "cell_type": "code",
      "execution_count": null,
      "metadata": {
        "colab": {
          "base_uri": "https://localhost:8080/",
          "height": 35
        },
        "id": "3ZFvn1lJ5Ta9",
        "outputId": "c38455e7-ac88-43cd-ca33-8425e7ad634c"
      },
      "outputs": [
        {
          "output_type": "execute_result",
          "data": {
            "text/plain": [
              "'1.5.3'"
            ],
            "application/vnd.google.colaboratory.intrinsic+json": {
              "type": "string"
            }
          },
          "metadata": {},
          "execution_count": 1
        }
      ],
      "source": [
        "import pandas as pd\n",
        "import numpy as np\n",
        "\n",
        "pd.__version__"
      ]
    },
    {
      "cell_type": "code",
      "source": [
        "# create a pandas series\n",
        "\n",
        "s1 = pd.Series([3,4,5,6,7], dtype=float)\n",
        "print(s1)\n",
        "print(s1.values)\n",
        "print(s1.index)\n",
        "print(s1[3])"
      ],
      "metadata": {
        "id": "uinRii9q5aBI",
        "colab": {
          "base_uri": "https://localhost:8080/"
        },
        "outputId": "91d6f81c-359f-4dc7-de02-f124ffc27d0e"
      },
      "execution_count": null,
      "outputs": [
        {
          "output_type": "stream",
          "name": "stdout",
          "text": [
            "0    3.0\n",
            "1    4.0\n",
            "2    5.0\n",
            "3    6.0\n",
            "4    7.0\n",
            "dtype: float64\n",
            "[3. 4. 5. 6. 7.]\n",
            "RangeIndex(start=0, stop=5, step=1)\n",
            "6.0\n"
          ]
        }
      ]
    },
    {
      "cell_type": "code",
      "source": [
        "# Create a pandas series with index parameter and access the values , indices\n",
        "\n",
        "s2 = pd.Series([3,4,5,6,7], index=['March', 'April', 'May', 'June', 'July'])\n",
        "print(s2)\n",
        "print(s2.values)\n",
        "print(s2.index)\n",
        "print(s2.April)"
      ],
      "metadata": {
        "id": "psAGu8GW5h1g",
        "colab": {
          "base_uri": "https://localhost:8080/"
        },
        "outputId": "99c260a1-a1e4-454b-c00a-2ca933e3634e"
      },
      "execution_count": null,
      "outputs": [
        {
          "output_type": "stream",
          "name": "stdout",
          "text": [
            "March    3\n",
            "April    4\n",
            "May      5\n",
            "June     6\n",
            "July     7\n",
            "dtype: int64\n",
            "[3 4 5 6 7]\n",
            "Index(['March', 'April', 'May', 'June', 'July'], dtype='object')\n",
            "4\n"
          ]
        }
      ]
    },
    {
      "cell_type": "code",
      "source": [
        "# Create a pandas dataframe from a dictionary\n",
        "\n",
        "data_frame = pd.DataFrame({'City':['Toronto', 'Mumbai', 'Houston', 'Austin', 'College Station'],\n",
        "                           'Year':[2022, 1987,2020,2015,2013]}, index = ['a','b','c','d', 'e'])\n",
        "print(data_frame)"
      ],
      "metadata": {
        "colab": {
          "base_uri": "https://localhost:8080/"
        },
        "id": "d_SBqIhCf6Q5",
        "outputId": "11f8a872-ebcb-4380-80a3-33333eb0e7eb"
      },
      "execution_count": null,
      "outputs": [
        {
          "output_type": "stream",
          "name": "stdout",
          "text": [
            "              City  Year\n",
            "a          Toronto  2022\n",
            "b           Mumbai  1987\n",
            "c          Houston  2020\n",
            "d           Austin  2015\n",
            "e  College Station  2013\n"
          ]
        }
      ]
    },
    {
      "cell_type": "code",
      "source": [
        "# Create a pandas dataframe from a numpy array and the values are from a standard normal distribution\n",
        "\n",
        "arr1 = np.random.randn(5,3)\n",
        "\n",
        "df = pd.DataFrame(arr1, columns=['A', 'B', 'C'])\n",
        "print(df)"
      ],
      "metadata": {
        "colab": {
          "base_uri": "https://localhost:8080/"
        },
        "id": "OBmaudM5kNzD",
        "outputId": "cbf0b78d-3bd3-446f-8467-e168b09f586b"
      },
      "execution_count": null,
      "outputs": [
        {
          "output_type": "stream",
          "name": "stdout",
          "text": [
            "          A         B         C\n",
            "0  0.101690  1.323819  0.499840\n",
            "1 -0.384334  1.217441 -0.143479\n",
            "2 -1.355664 -0.614983  0.278091\n",
            "3 -0.206157  2.710141  0.161147\n",
            "4  1.299134  1.011384  0.560531\n"
          ]
        }
      ]
    },
    {
      "cell_type": "code",
      "source": [
        "# Create a dataframe from a dictionary of Series objects\n",
        "cities_dict = {'California': 47364732, 'Texas': 5848774, 'Arizona': 8347348}\n",
        "series_cities = pd.Series(cities_dict)\n",
        "print(series_cities)\n",
        "df_cities = pd.DataFrame(series_cities, columns = ['Area'])\n",
        "print(df_cities)"
      ],
      "metadata": {
        "colab": {
          "base_uri": "https://localhost:8080/"
        },
        "id": "VD1RZ8AxvPIK",
        "outputId": "f56baa8c-afc9-45cf-991a-20835578306f"
      },
      "execution_count": null,
      "outputs": [
        {
          "output_type": "stream",
          "name": "stdout",
          "text": [
            "California    47364732\n",
            "Texas          5848774\n",
            "Arizona        8347348\n",
            "dtype: int64\n",
            "                Area\n",
            "California  47364732\n",
            "Texas        5848774\n",
            "Arizona      8347348\n"
          ]
        }
      ]
    },
    {
      "cell_type": "code",
      "source": [
        " #Create a dataframe from a 2d array\n",
        " A = pd.DataFrame(np.random.rand(3, 2), columns=['foo', 'bar'], index=['a', 'b', 'c'])\n",
        " print(A)"
      ],
      "metadata": {
        "colab": {
          "base_uri": "https://localhost:8080/"
        },
        "id": "RzJQrtta0B9g",
        "outputId": "04433215-8ebb-436f-c009-3dbc0ea9105f"
      },
      "execution_count": null,
      "outputs": [
        {
          "output_type": "stream",
          "name": "stdout",
          "text": [
            "        foo       bar\n",
            "a  0.735321  0.695222\n",
            "b  0.131802  0.853309\n",
            "c  0.465276  0.179038\n"
          ]
        }
      ]
    },
    {
      "cell_type": "code",
      "source": [
        "customer_dict = {'Name': ['Lily', 'Emma', 'John'],\n",
        "                 'Age': [38, 15, 28],\n",
        "                 'Education':['High School', 'Bachelors', 'Masters'],\n",
        "                 'Gender': ['f', 'f', 'm']}\n",
        "customer = pd.DataFrame(customer_dict)\n",
        "print(customer)"
      ],
      "metadata": {
        "id": "Oc6SAx1y2_p4",
        "colab": {
          "base_uri": "https://localhost:8080/"
        },
        "outputId": "8cdd4b46-bd22-4d7d-d3f4-5e7bfb031d1f"
      },
      "execution_count": null,
      "outputs": [
        {
          "output_type": "stream",
          "name": "stdout",
          "text": [
            "   Name  Age    Education Gender\n",
            "0  Lily   38  High School      f\n",
            "1  Emma   15    Bachelors      f\n",
            "2  John   28      Masters      m\n"
          ]
        }
      ]
    },
    {
      "cell_type": "code",
      "source": [
        "# Use the loc and iloc methods to select the first 2 rows\n",
        "print(customer.loc[:1, ['Age', 'Education']])\n",
        "print(customer.iloc[:2,1:3])"
      ],
      "metadata": {
        "colab": {
          "base_uri": "https://localhost:8080/"
        },
        "id": "rr6gnyGzpv0C",
        "outputId": "95918654-95b0-4fc0-b570-b3046239185f"
      },
      "execution_count": null,
      "outputs": [
        {
          "output_type": "stream",
          "name": "stdout",
          "text": [
            "   Age    Education\n",
            "0   38  High School\n",
            "1   15    Bachelors\n",
            "   Age    Education\n",
            "0   38  High School\n",
            "1   15    Bachelors\n"
          ]
        }
      ]
    },
    {
      "cell_type": "code",
      "source": [
        "# Using filters display a subset of the columns\n",
        "customer_filter = (customer['Gender'] == 'f') & (customer['Age'] == 38)\n",
        "print(customer[customer_filter])"
      ],
      "metadata": {
        "colab": {
          "base_uri": "https://localhost:8080/"
        },
        "id": "Yh0ttoJk0IJU",
        "outputId": "d254d916-d879-4673-9e2d-b003391458c5"
      },
      "execution_count": null,
      "outputs": [
        {
          "output_type": "stream",
          "name": "stdout",
          "text": [
            "   Name  Age    Education Gender\n",
            "0  Lily   38  High School      f\n"
          ]
        }
      ]
    },
    {
      "cell_type": "code",
      "source": [
        "# Find out what element is missing in the data frame\n",
        "df = pd.DataFrame({\"A\": [1.0, 2.0, 3.0, np.NAN],\n",
        "                  \"B\": [2.4, 6.2, 5.1, np.NAN],\n",
        "                  \"C\": [\"foo\", \"zoo\", \"bar\", None]})\n",
        "\n",
        "print(df)\n",
        "print(df.isna())\n",
        "print(df.notna())"
      ],
      "metadata": {
        "id": "jhjgaCME4MKI",
        "colab": {
          "base_uri": "https://localhost:8080/"
        },
        "outputId": "04e582a4-d1d2-47a3-b985-fc1980c60f6e"
      },
      "execution_count": null,
      "outputs": [
        {
          "output_type": "stream",
          "name": "stdout",
          "text": [
            "     A    B     C\n",
            "0  1.0  2.4   foo\n",
            "1  2.0  6.2   zoo\n",
            "2  3.0  5.1   bar\n",
            "3  NaN  NaN  None\n",
            "       A      B      C\n",
            "0  False  False  False\n",
            "1  False  False  False\n",
            "2  False  False  False\n",
            "3   True   True   True\n",
            "       A      B      C\n",
            "0   True   True   True\n",
            "1   True   True   True\n",
            "2   True   True   True\n",
            "3  False  False  False\n"
          ]
        }
      ]
    },
    {
      "cell_type": "code",
      "source": [
        "\n",
        "df_students = pd.DataFrame({\"A\": [1, 2, 3, 4, 7],\n",
        "                            \"B\": [2.4, np.NaN, 5.1, np.NaN, 2.6],\n",
        "                            \"C\": [\"phd\", \"phd\", \"high school\", \"high school\", np.NaN],\n",
        "                            \"D\": [3.0, np.NaN, np.NaN, np.NaN, np.NaN]})\n",
        "print(df_students, \"\\n\")\n",
        "\n",
        "# Drop rows that have atleast 1 missing value\n",
        "\n",
        "df_students_dropped = df_students.dropna(axis=0, how = 'any')\n",
        "print(\"Dropped dataframe = \\n\")\n",
        "print(df_students_dropped)\n",
        "\n",
        "# Keep rows that have atleast 3 non-missing values\n",
        "df_students_keep = df_students.dropna(axis=0, thresh=3)\n",
        "print(\"Dropped dataframe = \\n\")\n",
        "print(df_students_keep)"
      ],
      "metadata": {
        "colab": {
          "base_uri": "https://localhost:8080/"
        },
        "id": "xZWrYbioJlMM",
        "outputId": "df6a2cfc-1bd1-4896-ff14-6386fe44d17b"
      },
      "execution_count": null,
      "outputs": [
        {
          "output_type": "stream",
          "name": "stdout",
          "text": [
            "   A    B            C    D\n",
            "0  1  2.4          phd  3.0\n",
            "1  2  NaN          phd  NaN\n",
            "2  3  5.1  high school  NaN\n",
            "3  4  NaN  high school  NaN\n",
            "4  7  2.6          NaN  NaN \n",
            "\n",
            "Dropped dataframe = \n",
            "\n",
            "   A    B    C    D\n",
            "0  1  2.4  phd  3.0\n",
            "Dropped dataframe = \n",
            "\n",
            "   A    B            C    D\n",
            "0  1  2.4          phd  3.0\n",
            "2  3  5.1  high school  NaN\n"
          ]
        }
      ]
    },
    {
      "cell_type": "code",
      "source": [
        "# Usefillna to handle missing values\n",
        "\n",
        "df_students_fillna = pd.DataFrame({\"A\": [1, 2, 3, 4, 7],\n",
        "                            \"B\": [2.4, np.NaN, 5.1, np.NaN, 2.6],\n",
        "                            \"C\": [\"phd\", \"phd\", \"high school\", \"high school\", np.NaN],\n",
        "                            \"D\": [3.0, np.NaN, np.NaN, np.NaN, np.NaN]})\n",
        "print(df_students_fillna)\n",
        "average_value = df_students_fillna['B'].mean()\n",
        "df_students_fillna['B'].fillna(average_value, inplace=True)\n",
        "df_students_fillna['D'].fillna(3.0, inplace=True)\n",
        "value_mode = df_students_fillna['C'].mode()[1]\n",
        "df_students_fillna['C'].fillna(value_mode, inplace=True)\n",
        "\n",
        "print(df_students_fillna)"
      ],
      "metadata": {
        "id": "xQ3sBTj7M4kC",
        "colab": {
          "base_uri": "https://localhost:8080/"
        },
        "outputId": "06f76eb3-b185-4b7a-885a-ce8d1a5c6dc8"
      },
      "execution_count": null,
      "outputs": [
        {
          "output_type": "stream",
          "name": "stdout",
          "text": [
            "   A    B            C    D\n",
            "0  1  2.4          phd  3.0\n",
            "1  2  NaN          phd  NaN\n",
            "2  3  5.1  high school  NaN\n",
            "3  4  NaN  high school  NaN\n",
            "4  7  2.6          NaN  NaN\n"
          ]
        }
      ]
    },
    {
      "cell_type": "code",
      "source": [
        "#Sort the columns of a dataframe\n",
        "\n",
        "df_sort_values = pd.DataFrame({\"Date\":['2023-09-03', '2023-10-10', '2023-08-15', '2023-09-19'],\n",
        "                               \"Product\": [\"A\", \"B\", \"C\", \"D\"],\n",
        "                               \"Revenue\": [4000, 1000, 3000, 2000]})\n",
        "print(df_sort_values)\n",
        "print(\"\\n After Sorting: \\n\")\n",
        "df_sort_values.sort_values(by=\"Revenue\", ascending=True, inplace=True)\n",
        "print(df_sort_values)"
      ],
      "metadata": {
        "colab": {
          "base_uri": "https://localhost:8080/"
        },
        "id": "FuwdfJzTAnNJ",
        "outputId": "58b50749-ad54-47e5-afa4-8f8f58710e57"
      },
      "execution_count": null,
      "outputs": [
        {
          "output_type": "stream",
          "name": "stdout",
          "text": [
            "         Date Product  Revenue\n",
            "0  2023-09-03       A     4000\n",
            "1  2023-10-10       B     1000\n",
            "2  2023-08-15       C     3000\n",
            "3  2023-09-19       D     2000\n",
            "\n",
            " After Sorting: \n",
            "\n",
            "         Date Product  Revenue\n",
            "1  2023-10-10       B     1000\n",
            "3  2023-09-19       D     2000\n",
            "2  2023-08-15       C     3000\n",
            "0  2023-09-03       A     4000\n"
          ]
        }
      ]
    },
    {
      "cell_type": "code",
      "source": [
        "#Drop Columns in a Dataframe\n",
        "\n",
        "df_products = pd.DataFrame({\"ID\":['gds73', 'tir7334', 'jfk77634', '47643'],\n",
        "                               \"Product\": [\"A\", \"B\", \"C\", \"D\"],\n",
        "                               \"Revenue\": [4000, 1000, 3000, 2000],\n",
        "                               \"Region\": [np.NaN, np.NaN, np.NaN, np.NaN],\n",
        "                               \"Expenses\": [3000, 500, 2000, 2000]\n",
        "                               })\n",
        "df_products.drop([\"ID\", \"Region\"], axis=1, inplace=True)\n",
        "print(df_products)"
      ],
      "metadata": {
        "id": "L9jmKG3DP9c1",
        "colab": {
          "base_uri": "https://localhost:8080/"
        },
        "outputId": "cf45b3d0-d90e-4c78-a9d0-85296eb86425"
      },
      "execution_count": null,
      "outputs": [
        {
          "output_type": "stream",
          "name": "stdout",
          "text": [
            "  Product  Revenue  Expenses\n",
            "0       A     4000      3000\n",
            "1       B     1000       500\n",
            "2       C     3000      2000\n",
            "3       D     2000      2000\n"
          ]
        }
      ]
    },
    {
      "cell_type": "code",
      "source": [
        "# Add 100 to the column Expenses and create a new column Profits = Revenue - Expenses\n",
        "\n",
        "df_products[\"Expenses\"] = df_products[\"Expenses\"].apply(lambda x: x + 100)\n",
        "df_products[\"Profits\"] = df_products[\"Revenue\"] - df_products[\"Expenses\"]\n",
        "\n",
        "print(df_products)"
      ],
      "metadata": {
        "colab": {
          "base_uri": "https://localhost:8080/"
        },
        "id": "zFxrbvWA_0Cm",
        "outputId": "f1f83c86-5098-4ebc-96b1-caf58433df16"
      },
      "execution_count": null,
      "outputs": [
        {
          "output_type": "stream",
          "name": "stdout",
          "text": [
            "  Product  Revenue  Expenses  Profits\n",
            "0       A     4000      3100      900\n",
            "1       B     1000       600      400\n",
            "2       C     3000      2100      900\n",
            "3       D     2000      2100     -100\n"
          ]
        }
      ]
    },
    {
      "cell_type": "code",
      "source": [],
      "metadata": {
        "id": "3bcVOLJ5C-71"
      },
      "execution_count": null,
      "outputs": []
    }
  ]
}